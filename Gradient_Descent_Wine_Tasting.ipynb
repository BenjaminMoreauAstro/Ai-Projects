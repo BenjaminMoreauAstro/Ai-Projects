{
  "nbformat": 4,
  "nbformat_minor": 0,
  "metadata": {
    "kernelspec": {
      "display_name": "Python 3",
      "language": "python",
      "name": "python3"
    },
    "language_info": {
      "codemirror_mode": {
        "name": "ipython",
        "version": 3
      },
      "file_extension": ".py",
      "mimetype": "text/x-python",
      "name": "python",
      "nbconvert_exporter": "python",
      "pygments_lexer": "ipython3",
      "version": "3.7.6"
    },
    "colab": {
      "name": "HW11",
      "provenance": [],
      "include_colab_link": true
    },
    "accelerator": "GPU",
    "widgets": {
      "application/vnd.jupyter.widget-state+json": {
        "17f702e534e3496db93f2aa03af70a15": {
          "model_module": "@jupyter-widgets/controls",
          "model_name": "HBoxModel",
          "state": {
            "_view_name": "HBoxView",
            "_dom_classes": [],
            "_model_name": "HBoxModel",
            "_view_module": "@jupyter-widgets/controls",
            "_model_module_version": "1.5.0",
            "_view_count": null,
            "_view_module_version": "1.5.0",
            "box_style": "",
            "layout": "IPY_MODEL_a4bff44de72549a894a3c774dcca307f",
            "_model_module": "@jupyter-widgets/controls",
            "children": [
              "IPY_MODEL_97e660e30fb04cd6aa9f0b69e392df42",
              "IPY_MODEL_14400f7eefe244ee86f7a72c058fc2e6"
            ]
          }
        },
        "a4bff44de72549a894a3c774dcca307f": {
          "model_module": "@jupyter-widgets/base",
          "model_name": "LayoutModel",
          "state": {
            "_view_name": "LayoutView",
            "grid_template_rows": null,
            "right": null,
            "justify_content": null,
            "_view_module": "@jupyter-widgets/base",
            "overflow": null,
            "_model_module_version": "1.2.0",
            "_view_count": null,
            "flex_flow": null,
            "width": null,
            "min_width": null,
            "border": null,
            "align_items": null,
            "bottom": null,
            "_model_module": "@jupyter-widgets/base",
            "top": null,
            "grid_column": null,
            "overflow_y": null,
            "overflow_x": null,
            "grid_auto_flow": null,
            "grid_area": null,
            "grid_template_columns": null,
            "flex": null,
            "_model_name": "LayoutModel",
            "justify_items": null,
            "grid_row": null,
            "max_height": null,
            "align_content": null,
            "visibility": null,
            "align_self": null,
            "height": null,
            "min_height": null,
            "padding": null,
            "grid_auto_rows": null,
            "grid_gap": null,
            "max_width": null,
            "order": null,
            "_view_module_version": "1.2.0",
            "grid_template_areas": null,
            "object_position": null,
            "object_fit": null,
            "grid_auto_columns": null,
            "margin": null,
            "display": null,
            "left": null
          }
        },
        "97e660e30fb04cd6aa9f0b69e392df42": {
          "model_module": "@jupyter-widgets/controls",
          "model_name": "FloatProgressModel",
          "state": {
            "_view_name": "ProgressView",
            "style": "IPY_MODEL_1a5b560334de4ed7bba43337231fc69e",
            "_dom_classes": [],
            "description": "Dl Completed...: 100%",
            "_model_name": "FloatProgressModel",
            "bar_style": "success",
            "max": 1,
            "_view_module": "@jupyter-widgets/controls",
            "_model_module_version": "1.5.0",
            "value": 1,
            "_view_count": null,
            "_view_module_version": "1.5.0",
            "orientation": "horizontal",
            "min": 0,
            "description_tooltip": null,
            "_model_module": "@jupyter-widgets/controls",
            "layout": "IPY_MODEL_705286f7407244f3bd6d3d7efc5e737f"
          }
        },
        "14400f7eefe244ee86f7a72c058fc2e6": {
          "model_module": "@jupyter-widgets/controls",
          "model_name": "HTMLModel",
          "state": {
            "_view_name": "HTMLView",
            "style": "IPY_MODEL_518ea53d7033459aa3426a90392f51ec",
            "_dom_classes": [],
            "description": "",
            "_model_name": "HTMLModel",
            "placeholder": "​",
            "_view_module": "@jupyter-widgets/controls",
            "_model_module_version": "1.5.0",
            "value": " 1/1 [01:58&lt;00:00, 118.83s/ url]",
            "_view_count": null,
            "_view_module_version": "1.5.0",
            "description_tooltip": null,
            "_model_module": "@jupyter-widgets/controls",
            "layout": "IPY_MODEL_f4b0d041458242eb8e8604a8acc82cd1"
          }
        },
        "1a5b560334de4ed7bba43337231fc69e": {
          "model_module": "@jupyter-widgets/controls",
          "model_name": "ProgressStyleModel",
          "state": {
            "_view_name": "StyleView",
            "_model_name": "ProgressStyleModel",
            "description_width": "initial",
            "_view_module": "@jupyter-widgets/base",
            "_model_module_version": "1.5.0",
            "_view_count": null,
            "_view_module_version": "1.2.0",
            "bar_color": null,
            "_model_module": "@jupyter-widgets/controls"
          }
        },
        "705286f7407244f3bd6d3d7efc5e737f": {
          "model_module": "@jupyter-widgets/base",
          "model_name": "LayoutModel",
          "state": {
            "_view_name": "LayoutView",
            "grid_template_rows": null,
            "right": null,
            "justify_content": null,
            "_view_module": "@jupyter-widgets/base",
            "overflow": null,
            "_model_module_version": "1.2.0",
            "_view_count": null,
            "flex_flow": null,
            "width": null,
            "min_width": null,
            "border": null,
            "align_items": null,
            "bottom": null,
            "_model_module": "@jupyter-widgets/base",
            "top": null,
            "grid_column": null,
            "overflow_y": null,
            "overflow_x": null,
            "grid_auto_flow": null,
            "grid_area": null,
            "grid_template_columns": null,
            "flex": null,
            "_model_name": "LayoutModel",
            "justify_items": null,
            "grid_row": null,
            "max_height": null,
            "align_content": null,
            "visibility": null,
            "align_self": null,
            "height": null,
            "min_height": null,
            "padding": null,
            "grid_auto_rows": null,
            "grid_gap": null,
            "max_width": null,
            "order": null,
            "_view_module_version": "1.2.0",
            "grid_template_areas": null,
            "object_position": null,
            "object_fit": null,
            "grid_auto_columns": null,
            "margin": null,
            "display": null,
            "left": null
          }
        },
        "518ea53d7033459aa3426a90392f51ec": {
          "model_module": "@jupyter-widgets/controls",
          "model_name": "DescriptionStyleModel",
          "state": {
            "_view_name": "StyleView",
            "_model_name": "DescriptionStyleModel",
            "description_width": "",
            "_view_module": "@jupyter-widgets/base",
            "_model_module_version": "1.5.0",
            "_view_count": null,
            "_view_module_version": "1.2.0",
            "_model_module": "@jupyter-widgets/controls"
          }
        },
        "f4b0d041458242eb8e8604a8acc82cd1": {
          "model_module": "@jupyter-widgets/base",
          "model_name": "LayoutModel",
          "state": {
            "_view_name": "LayoutView",
            "grid_template_rows": null,
            "right": null,
            "justify_content": null,
            "_view_module": "@jupyter-widgets/base",
            "overflow": null,
            "_model_module_version": "1.2.0",
            "_view_count": null,
            "flex_flow": null,
            "width": null,
            "min_width": null,
            "border": null,
            "align_items": null,
            "bottom": null,
            "_model_module": "@jupyter-widgets/base",
            "top": null,
            "grid_column": null,
            "overflow_y": null,
            "overflow_x": null,
            "grid_auto_flow": null,
            "grid_area": null,
            "grid_template_columns": null,
            "flex": null,
            "_model_name": "LayoutModel",
            "justify_items": null,
            "grid_row": null,
            "max_height": null,
            "align_content": null,
            "visibility": null,
            "align_self": null,
            "height": null,
            "min_height": null,
            "padding": null,
            "grid_auto_rows": null,
            "grid_gap": null,
            "max_width": null,
            "order": null,
            "_view_module_version": "1.2.0",
            "grid_template_areas": null,
            "object_position": null,
            "object_fit": null,
            "grid_auto_columns": null,
            "margin": null,
            "display": null,
            "left": null
          }
        },
        "a2392a1675e44dd9acca0dfe24af575b": {
          "model_module": "@jupyter-widgets/controls",
          "model_name": "HBoxModel",
          "state": {
            "_view_name": "HBoxView",
            "_dom_classes": [],
            "_model_name": "HBoxModel",
            "_view_module": "@jupyter-widgets/controls",
            "_model_module_version": "1.5.0",
            "_view_count": null,
            "_view_module_version": "1.5.0",
            "box_style": "",
            "layout": "IPY_MODEL_0948c90f996b45bea686e8ffa55b1472",
            "_model_module": "@jupyter-widgets/controls",
            "children": [
              "IPY_MODEL_a86d10fc0b9e4fdcb97f714547574008",
              "IPY_MODEL_d3a39d03adf24d5fbfa0e8d177d654dd"
            ]
          }
        },
        "0948c90f996b45bea686e8ffa55b1472": {
          "model_module": "@jupyter-widgets/base",
          "model_name": "LayoutModel",
          "state": {
            "_view_name": "LayoutView",
            "grid_template_rows": null,
            "right": null,
            "justify_content": null,
            "_view_module": "@jupyter-widgets/base",
            "overflow": null,
            "_model_module_version": "1.2.0",
            "_view_count": null,
            "flex_flow": null,
            "width": null,
            "min_width": null,
            "border": null,
            "align_items": null,
            "bottom": null,
            "_model_module": "@jupyter-widgets/base",
            "top": null,
            "grid_column": null,
            "overflow_y": null,
            "overflow_x": null,
            "grid_auto_flow": null,
            "grid_area": null,
            "grid_template_columns": null,
            "flex": null,
            "_model_name": "LayoutModel",
            "justify_items": null,
            "grid_row": null,
            "max_height": null,
            "align_content": null,
            "visibility": null,
            "align_self": null,
            "height": null,
            "min_height": null,
            "padding": null,
            "grid_auto_rows": null,
            "grid_gap": null,
            "max_width": null,
            "order": null,
            "_view_module_version": "1.2.0",
            "grid_template_areas": null,
            "object_position": null,
            "object_fit": null,
            "grid_auto_columns": null,
            "margin": null,
            "display": null,
            "left": null
          }
        },
        "a86d10fc0b9e4fdcb97f714547574008": {
          "model_module": "@jupyter-widgets/controls",
          "model_name": "FloatProgressModel",
          "state": {
            "_view_name": "ProgressView",
            "style": "IPY_MODEL_3a42f1e0ef494f08a423df69f9a6bd68",
            "_dom_classes": [],
            "description": "Dl Size...: ",
            "_model_name": "FloatProgressModel",
            "bar_style": "success",
            "max": 1,
            "_view_module": "@jupyter-widgets/controls",
            "_model_module_version": "1.5.0",
            "value": 0,
            "_view_count": null,
            "_view_module_version": "1.5.0",
            "orientation": "horizontal",
            "min": 0,
            "description_tooltip": null,
            "_model_module": "@jupyter-widgets/controls",
            "layout": "IPY_MODEL_b6283b4871aa46f1b888e84bfe37e6a0"
          }
        },
        "d3a39d03adf24d5fbfa0e8d177d654dd": {
          "model_module": "@jupyter-widgets/controls",
          "model_name": "HTMLModel",
          "state": {
            "_view_name": "HTMLView",
            "style": "IPY_MODEL_a249928d8c3c4c6ba5f5b463247a75ae",
            "_dom_classes": [],
            "description": "",
            "_model_name": "HTMLModel",
            "placeholder": "​",
            "_view_module": "@jupyter-widgets/controls",
            "_model_module_version": "1.5.0",
            "value": " 0/0 [01:58&lt;?, ? MiB/s]",
            "_view_count": null,
            "_view_module_version": "1.5.0",
            "description_tooltip": null,
            "_model_module": "@jupyter-widgets/controls",
            "layout": "IPY_MODEL_f2f5afd07a724acf924a7a2ba880595b"
          }
        },
        "3a42f1e0ef494f08a423df69f9a6bd68": {
          "model_module": "@jupyter-widgets/controls",
          "model_name": "ProgressStyleModel",
          "state": {
            "_view_name": "StyleView",
            "_model_name": "ProgressStyleModel",
            "description_width": "initial",
            "_view_module": "@jupyter-widgets/base",
            "_model_module_version": "1.5.0",
            "_view_count": null,
            "_view_module_version": "1.2.0",
            "bar_color": null,
            "_model_module": "@jupyter-widgets/controls"
          }
        },
        "b6283b4871aa46f1b888e84bfe37e6a0": {
          "model_module": "@jupyter-widgets/base",
          "model_name": "LayoutModel",
          "state": {
            "_view_name": "LayoutView",
            "grid_template_rows": null,
            "right": null,
            "justify_content": null,
            "_view_module": "@jupyter-widgets/base",
            "overflow": null,
            "_model_module_version": "1.2.0",
            "_view_count": null,
            "flex_flow": null,
            "width": null,
            "min_width": null,
            "border": null,
            "align_items": null,
            "bottom": null,
            "_model_module": "@jupyter-widgets/base",
            "top": null,
            "grid_column": null,
            "overflow_y": null,
            "overflow_x": null,
            "grid_auto_flow": null,
            "grid_area": null,
            "grid_template_columns": null,
            "flex": null,
            "_model_name": "LayoutModel",
            "justify_items": null,
            "grid_row": null,
            "max_height": null,
            "align_content": null,
            "visibility": null,
            "align_self": null,
            "height": null,
            "min_height": null,
            "padding": null,
            "grid_auto_rows": null,
            "grid_gap": null,
            "max_width": null,
            "order": null,
            "_view_module_version": "1.2.0",
            "grid_template_areas": null,
            "object_position": null,
            "object_fit": null,
            "grid_auto_columns": null,
            "margin": null,
            "display": null,
            "left": null
          }
        },
        "a249928d8c3c4c6ba5f5b463247a75ae": {
          "model_module": "@jupyter-widgets/controls",
          "model_name": "DescriptionStyleModel",
          "state": {
            "_view_name": "StyleView",
            "_model_name": "DescriptionStyleModel",
            "description_width": "",
            "_view_module": "@jupyter-widgets/base",
            "_model_module_version": "1.5.0",
            "_view_count": null,
            "_view_module_version": "1.2.0",
            "_model_module": "@jupyter-widgets/controls"
          }
        },
        "f2f5afd07a724acf924a7a2ba880595b": {
          "model_module": "@jupyter-widgets/base",
          "model_name": "LayoutModel",
          "state": {
            "_view_name": "LayoutView",
            "grid_template_rows": null,
            "right": null,
            "justify_content": null,
            "_view_module": "@jupyter-widgets/base",
            "overflow": null,
            "_model_module_version": "1.2.0",
            "_view_count": null,
            "flex_flow": null,
            "width": null,
            "min_width": null,
            "border": null,
            "align_items": null,
            "bottom": null,
            "_model_module": "@jupyter-widgets/base",
            "top": null,
            "grid_column": null,
            "overflow_y": null,
            "overflow_x": null,
            "grid_auto_flow": null,
            "grid_area": null,
            "grid_template_columns": null,
            "flex": null,
            "_model_name": "LayoutModel",
            "justify_items": null,
            "grid_row": null,
            "max_height": null,
            "align_content": null,
            "visibility": null,
            "align_self": null,
            "height": null,
            "min_height": null,
            "padding": null,
            "grid_auto_rows": null,
            "grid_gap": null,
            "max_width": null,
            "order": null,
            "_view_module_version": "1.2.0",
            "grid_template_areas": null,
            "object_position": null,
            "object_fit": null,
            "grid_auto_columns": null,
            "margin": null,
            "display": null,
            "left": null
          }
        },
        "2da35590d4af4403b404ec409ba652c5": {
          "model_module": "@jupyter-widgets/controls",
          "model_name": "HBoxModel",
          "state": {
            "_view_name": "HBoxView",
            "_dom_classes": [],
            "_model_name": "HBoxModel",
            "_view_module": "@jupyter-widgets/controls",
            "_model_module_version": "1.5.0",
            "_view_count": null,
            "_view_module_version": "1.5.0",
            "box_style": "",
            "layout": "IPY_MODEL_b75e65dc79eb4dcd9a8e39fba18383ac",
            "_model_module": "@jupyter-widgets/controls",
            "children": [
              "IPY_MODEL_f6810d8a4fa64261ba14e06904a6b6e5",
              "IPY_MODEL_92bd9685216346a59314f0e3e8427486"
            ]
          }
        },
        "b75e65dc79eb4dcd9a8e39fba18383ac": {
          "model_module": "@jupyter-widgets/base",
          "model_name": "LayoutModel",
          "state": {
            "_view_name": "LayoutView",
            "grid_template_rows": null,
            "right": null,
            "justify_content": null,
            "_view_module": "@jupyter-widgets/base",
            "overflow": null,
            "_model_module_version": "1.2.0",
            "_view_count": null,
            "flex_flow": null,
            "width": null,
            "min_width": null,
            "border": null,
            "align_items": null,
            "bottom": null,
            "_model_module": "@jupyter-widgets/base",
            "top": null,
            "grid_column": null,
            "overflow_y": null,
            "overflow_x": null,
            "grid_auto_flow": null,
            "grid_area": null,
            "grid_template_columns": null,
            "flex": null,
            "_model_name": "LayoutModel",
            "justify_items": null,
            "grid_row": null,
            "max_height": null,
            "align_content": null,
            "visibility": null,
            "align_self": null,
            "height": null,
            "min_height": null,
            "padding": null,
            "grid_auto_rows": null,
            "grid_gap": null,
            "max_width": null,
            "order": null,
            "_view_module_version": "1.2.0",
            "grid_template_areas": null,
            "object_position": null,
            "object_fit": null,
            "grid_auto_columns": null,
            "margin": null,
            "display": null,
            "left": null
          }
        },
        "f6810d8a4fa64261ba14e06904a6b6e5": {
          "model_module": "@jupyter-widgets/controls",
          "model_name": "FloatProgressModel",
          "state": {
            "_view_name": "ProgressView",
            "style": "IPY_MODEL_f6fe4816dd054f7cb5db0d061f703e67",
            "_dom_classes": [],
            "description": "",
            "_model_name": "FloatProgressModel",
            "bar_style": "info",
            "max": 1,
            "_view_module": "@jupyter-widgets/controls",
            "_model_module_version": "1.5.0",
            "value": 1,
            "_view_count": null,
            "_view_module_version": "1.5.0",
            "orientation": "horizontal",
            "min": 0,
            "description_tooltip": null,
            "_model_module": "@jupyter-widgets/controls",
            "layout": "IPY_MODEL_f6d91ca0dc0645929658530653daca33"
          }
        },
        "92bd9685216346a59314f0e3e8427486": {
          "model_module": "@jupyter-widgets/controls",
          "model_name": "HTMLModel",
          "state": {
            "_view_name": "HTMLView",
            "style": "IPY_MODEL_a802eab166464cac88cecfa1df94a01b",
            "_dom_classes": [],
            "description": "",
            "_model_name": "HTMLModel",
            "placeholder": "​",
            "_view_module": "@jupyter-widgets/controls",
            "_model_module_version": "1.5.0",
            "value": " 4898/0 [00:04&lt;00:00, 1104.97 examples/s]",
            "_view_count": null,
            "_view_module_version": "1.5.0",
            "description_tooltip": null,
            "_model_module": "@jupyter-widgets/controls",
            "layout": "IPY_MODEL_f8fc3978e66d4f34bcf3b50a4c5b0a2b"
          }
        },
        "f6fe4816dd054f7cb5db0d061f703e67": {
          "model_module": "@jupyter-widgets/controls",
          "model_name": "ProgressStyleModel",
          "state": {
            "_view_name": "StyleView",
            "_model_name": "ProgressStyleModel",
            "description_width": "initial",
            "_view_module": "@jupyter-widgets/base",
            "_model_module_version": "1.5.0",
            "_view_count": null,
            "_view_module_version": "1.2.0",
            "bar_color": null,
            "_model_module": "@jupyter-widgets/controls"
          }
        },
        "f6d91ca0dc0645929658530653daca33": {
          "model_module": "@jupyter-widgets/base",
          "model_name": "LayoutModel",
          "state": {
            "_view_name": "LayoutView",
            "grid_template_rows": null,
            "right": null,
            "justify_content": null,
            "_view_module": "@jupyter-widgets/base",
            "overflow": null,
            "_model_module_version": "1.2.0",
            "_view_count": null,
            "flex_flow": null,
            "width": null,
            "min_width": null,
            "border": null,
            "align_items": null,
            "bottom": null,
            "_model_module": "@jupyter-widgets/base",
            "top": null,
            "grid_column": null,
            "overflow_y": null,
            "overflow_x": null,
            "grid_auto_flow": null,
            "grid_area": null,
            "grid_template_columns": null,
            "flex": null,
            "_model_name": "LayoutModel",
            "justify_items": null,
            "grid_row": null,
            "max_height": null,
            "align_content": null,
            "visibility": null,
            "align_self": null,
            "height": null,
            "min_height": null,
            "padding": null,
            "grid_auto_rows": null,
            "grid_gap": null,
            "max_width": null,
            "order": null,
            "_view_module_version": "1.2.0",
            "grid_template_areas": null,
            "object_position": null,
            "object_fit": null,
            "grid_auto_columns": null,
            "margin": null,
            "display": null,
            "left": null
          }
        },
        "a802eab166464cac88cecfa1df94a01b": {
          "model_module": "@jupyter-widgets/controls",
          "model_name": "DescriptionStyleModel",
          "state": {
            "_view_name": "StyleView",
            "_model_name": "DescriptionStyleModel",
            "description_width": "",
            "_view_module": "@jupyter-widgets/base",
            "_model_module_version": "1.5.0",
            "_view_count": null,
            "_view_module_version": "1.2.0",
            "_model_module": "@jupyter-widgets/controls"
          }
        },
        "f8fc3978e66d4f34bcf3b50a4c5b0a2b": {
          "model_module": "@jupyter-widgets/base",
          "model_name": "LayoutModel",
          "state": {
            "_view_name": "LayoutView",
            "grid_template_rows": null,
            "right": null,
            "justify_content": null,
            "_view_module": "@jupyter-widgets/base",
            "overflow": null,
            "_model_module_version": "1.2.0",
            "_view_count": null,
            "flex_flow": null,
            "width": null,
            "min_width": null,
            "border": null,
            "align_items": null,
            "bottom": null,
            "_model_module": "@jupyter-widgets/base",
            "top": null,
            "grid_column": null,
            "overflow_y": null,
            "overflow_x": null,
            "grid_auto_flow": null,
            "grid_area": null,
            "grid_template_columns": null,
            "flex": null,
            "_model_name": "LayoutModel",
            "justify_items": null,
            "grid_row": null,
            "max_height": null,
            "align_content": null,
            "visibility": null,
            "align_self": null,
            "height": null,
            "min_height": null,
            "padding": null,
            "grid_auto_rows": null,
            "grid_gap": null,
            "max_width": null,
            "order": null,
            "_view_module_version": "1.2.0",
            "grid_template_areas": null,
            "object_position": null,
            "object_fit": null,
            "grid_auto_columns": null,
            "margin": null,
            "display": null,
            "left": null
          }
        },
        "bb61cca173584a4186c8575481396fbc": {
          "model_module": "@jupyter-widgets/controls",
          "model_name": "HBoxModel",
          "state": {
            "_view_name": "HBoxView",
            "_dom_classes": [],
            "_model_name": "HBoxModel",
            "_view_module": "@jupyter-widgets/controls",
            "_model_module_version": "1.5.0",
            "_view_count": null,
            "_view_module_version": "1.5.0",
            "box_style": "",
            "layout": "IPY_MODEL_6c803003c33e483ebaadca8e85c0683e",
            "_model_module": "@jupyter-widgets/controls",
            "children": [
              "IPY_MODEL_30b2f814b76f48b8b64534ab11e35b80",
              "IPY_MODEL_532de0ec5e844a1ebef8cb3a213f0009"
            ]
          }
        },
        "6c803003c33e483ebaadca8e85c0683e": {
          "model_module": "@jupyter-widgets/base",
          "model_name": "LayoutModel",
          "state": {
            "_view_name": "LayoutView",
            "grid_template_rows": null,
            "right": null,
            "justify_content": null,
            "_view_module": "@jupyter-widgets/base",
            "overflow": null,
            "_model_module_version": "1.2.0",
            "_view_count": null,
            "flex_flow": null,
            "width": null,
            "min_width": null,
            "border": null,
            "align_items": null,
            "bottom": null,
            "_model_module": "@jupyter-widgets/base",
            "top": null,
            "grid_column": null,
            "overflow_y": null,
            "overflow_x": null,
            "grid_auto_flow": null,
            "grid_area": null,
            "grid_template_columns": null,
            "flex": null,
            "_model_name": "LayoutModel",
            "justify_items": null,
            "grid_row": null,
            "max_height": null,
            "align_content": null,
            "visibility": null,
            "align_self": null,
            "height": null,
            "min_height": null,
            "padding": null,
            "grid_auto_rows": null,
            "grid_gap": null,
            "max_width": null,
            "order": null,
            "_view_module_version": "1.2.0",
            "grid_template_areas": null,
            "object_position": null,
            "object_fit": null,
            "grid_auto_columns": null,
            "margin": null,
            "display": null,
            "left": null
          }
        },
        "30b2f814b76f48b8b64534ab11e35b80": {
          "model_module": "@jupyter-widgets/controls",
          "model_name": "FloatProgressModel",
          "state": {
            "_view_name": "ProgressView",
            "style": "IPY_MODEL_4409eeacc87841d7b174dacec1251b32",
            "_dom_classes": [],
            "description": "  0%",
            "_model_name": "FloatProgressModel",
            "bar_style": "danger",
            "max": 4898,
            "_view_module": "@jupyter-widgets/controls",
            "_model_module_version": "1.5.0",
            "value": 0,
            "_view_count": null,
            "_view_module_version": "1.5.0",
            "orientation": "horizontal",
            "min": 0,
            "description_tooltip": null,
            "_model_module": "@jupyter-widgets/controls",
            "layout": "IPY_MODEL_835fc4b2144d44d4a4182e8ffb457855"
          }
        },
        "532de0ec5e844a1ebef8cb3a213f0009": {
          "model_module": "@jupyter-widgets/controls",
          "model_name": "HTMLModel",
          "state": {
            "_view_name": "HTMLView",
            "style": "IPY_MODEL_b8842bdeee944b54a3fb6becd7e2530f",
            "_dom_classes": [],
            "description": "",
            "_model_name": "HTMLModel",
            "placeholder": "​",
            "_view_module": "@jupyter-widgets/controls",
            "_model_module_version": "1.5.0",
            "value": " 0/4898 [00:05&lt;?, ? examples/s]",
            "_view_count": null,
            "_view_module_version": "1.5.0",
            "description_tooltip": null,
            "_model_module": "@jupyter-widgets/controls",
            "layout": "IPY_MODEL_f47a38c9f3c54c71bdd2b6f0a91f1c88"
          }
        },
        "4409eeacc87841d7b174dacec1251b32": {
          "model_module": "@jupyter-widgets/controls",
          "model_name": "ProgressStyleModel",
          "state": {
            "_view_name": "StyleView",
            "_model_name": "ProgressStyleModel",
            "description_width": "initial",
            "_view_module": "@jupyter-widgets/base",
            "_model_module_version": "1.5.0",
            "_view_count": null,
            "_view_module_version": "1.2.0",
            "bar_color": null,
            "_model_module": "@jupyter-widgets/controls"
          }
        },
        "835fc4b2144d44d4a4182e8ffb457855": {
          "model_module": "@jupyter-widgets/base",
          "model_name": "LayoutModel",
          "state": {
            "_view_name": "LayoutView",
            "grid_template_rows": null,
            "right": null,
            "justify_content": null,
            "_view_module": "@jupyter-widgets/base",
            "overflow": null,
            "_model_module_version": "1.2.0",
            "_view_count": null,
            "flex_flow": null,
            "width": null,
            "min_width": null,
            "border": null,
            "align_items": null,
            "bottom": null,
            "_model_module": "@jupyter-widgets/base",
            "top": null,
            "grid_column": null,
            "overflow_y": null,
            "overflow_x": null,
            "grid_auto_flow": null,
            "grid_area": null,
            "grid_template_columns": null,
            "flex": null,
            "_model_name": "LayoutModel",
            "justify_items": null,
            "grid_row": null,
            "max_height": null,
            "align_content": null,
            "visibility": null,
            "align_self": null,
            "height": null,
            "min_height": null,
            "padding": null,
            "grid_auto_rows": null,
            "grid_gap": null,
            "max_width": null,
            "order": null,
            "_view_module_version": "1.2.0",
            "grid_template_areas": null,
            "object_position": null,
            "object_fit": null,
            "grid_auto_columns": null,
            "margin": null,
            "display": null,
            "left": null
          }
        },
        "b8842bdeee944b54a3fb6becd7e2530f": {
          "model_module": "@jupyter-widgets/controls",
          "model_name": "DescriptionStyleModel",
          "state": {
            "_view_name": "StyleView",
            "_model_name": "DescriptionStyleModel",
            "description_width": "",
            "_view_module": "@jupyter-widgets/base",
            "_model_module_version": "1.5.0",
            "_view_count": null,
            "_view_module_version": "1.2.0",
            "_model_module": "@jupyter-widgets/controls"
          }
        },
        "f47a38c9f3c54c71bdd2b6f0a91f1c88": {
          "model_module": "@jupyter-widgets/base",
          "model_name": "LayoutModel",
          "state": {
            "_view_name": "LayoutView",
            "grid_template_rows": null,
            "right": null,
            "justify_content": null,
            "_view_module": "@jupyter-widgets/base",
            "overflow": null,
            "_model_module_version": "1.2.0",
            "_view_count": null,
            "flex_flow": null,
            "width": null,
            "min_width": null,
            "border": null,
            "align_items": null,
            "bottom": null,
            "_model_module": "@jupyter-widgets/base",
            "top": null,
            "grid_column": null,
            "overflow_y": null,
            "overflow_x": null,
            "grid_auto_flow": null,
            "grid_area": null,
            "grid_template_columns": null,
            "flex": null,
            "_model_name": "LayoutModel",
            "justify_items": null,
            "grid_row": null,
            "max_height": null,
            "align_content": null,
            "visibility": null,
            "align_self": null,
            "height": null,
            "min_height": null,
            "padding": null,
            "grid_auto_rows": null,
            "grid_gap": null,
            "max_width": null,
            "order": null,
            "_view_module_version": "1.2.0",
            "grid_template_areas": null,
            "object_position": null,
            "object_fit": null,
            "grid_auto_columns": null,
            "margin": null,
            "display": null,
            "left": null
          }
        },
        "9c1c56dadb4e4ed1b51ef5e89da57187": {
          "model_module": "@jupyter-widgets/controls",
          "model_name": "HBoxModel",
          "state": {
            "_view_name": "HBoxView",
            "_dom_classes": [],
            "_model_name": "HBoxModel",
            "_view_module": "@jupyter-widgets/controls",
            "_model_module_version": "1.5.0",
            "_view_count": null,
            "_view_module_version": "1.5.0",
            "box_style": "",
            "layout": "IPY_MODEL_4a796d5481904bcd8d18bea1591a1ca2",
            "_model_module": "@jupyter-widgets/controls",
            "children": [
              "IPY_MODEL_c150ea116dd5484099ab900482533b18",
              "IPY_MODEL_ca046c59f0304683a3addc127e8301f1"
            ]
          }
        },
        "4a796d5481904bcd8d18bea1591a1ca2": {
          "model_module": "@jupyter-widgets/base",
          "model_name": "LayoutModel",
          "state": {
            "_view_name": "LayoutView",
            "grid_template_rows": null,
            "right": null,
            "justify_content": null,
            "_view_module": "@jupyter-widgets/base",
            "overflow": null,
            "_model_module_version": "1.2.0",
            "_view_count": null,
            "flex_flow": null,
            "width": null,
            "min_width": null,
            "border": null,
            "align_items": null,
            "bottom": null,
            "_model_module": "@jupyter-widgets/base",
            "top": null,
            "grid_column": null,
            "overflow_y": null,
            "overflow_x": null,
            "grid_auto_flow": null,
            "grid_area": null,
            "grid_template_columns": null,
            "flex": null,
            "_model_name": "LayoutModel",
            "justify_items": null,
            "grid_row": null,
            "max_height": null,
            "align_content": null,
            "visibility": null,
            "align_self": null,
            "height": null,
            "min_height": null,
            "padding": null,
            "grid_auto_rows": null,
            "grid_gap": null,
            "max_width": null,
            "order": null,
            "_view_module_version": "1.2.0",
            "grid_template_areas": null,
            "object_position": null,
            "object_fit": null,
            "grid_auto_columns": null,
            "margin": null,
            "display": null,
            "left": null
          }
        },
        "c150ea116dd5484099ab900482533b18": {
          "model_module": "@jupyter-widgets/controls",
          "model_name": "FloatProgressModel",
          "state": {
            "_view_name": "ProgressView",
            "style": "IPY_MODEL_58ed17dd70404ac38f33dc7f320f149c",
            "_dom_classes": [],
            "description": "Dl Completed...: 100%",
            "_model_name": "FloatProgressModel",
            "bar_style": "success",
            "max": 1,
            "_view_module": "@jupyter-widgets/controls",
            "_model_module_version": "1.5.0",
            "value": 1,
            "_view_count": null,
            "_view_module_version": "1.5.0",
            "orientation": "horizontal",
            "min": 0,
            "description_tooltip": null,
            "_model_module": "@jupyter-widgets/controls",
            "layout": "IPY_MODEL_7dc143981a5b4b7c90f91fd12efaec56"
          }
        },
        "ca046c59f0304683a3addc127e8301f1": {
          "model_module": "@jupyter-widgets/controls",
          "model_name": "HTMLModel",
          "state": {
            "_view_name": "HTMLView",
            "style": "IPY_MODEL_52259f6b5e3745bd856695f9d52035f1",
            "_dom_classes": [],
            "description": "",
            "_model_name": "HTMLModel",
            "placeholder": "​",
            "_view_module": "@jupyter-widgets/controls",
            "_model_module_version": "1.5.0",
            "value": " 1/1 [00:00&lt;00:00,  1.51 url/s]",
            "_view_count": null,
            "_view_module_version": "1.5.0",
            "description_tooltip": null,
            "_model_module": "@jupyter-widgets/controls",
            "layout": "IPY_MODEL_0d3966d12379481c84ee01e70c74ccbc"
          }
        },
        "58ed17dd70404ac38f33dc7f320f149c": {
          "model_module": "@jupyter-widgets/controls",
          "model_name": "ProgressStyleModel",
          "state": {
            "_view_name": "StyleView",
            "_model_name": "ProgressStyleModel",
            "description_width": "initial",
            "_view_module": "@jupyter-widgets/base",
            "_model_module_version": "1.5.0",
            "_view_count": null,
            "_view_module_version": "1.2.0",
            "bar_color": null,
            "_model_module": "@jupyter-widgets/controls"
          }
        },
        "7dc143981a5b4b7c90f91fd12efaec56": {
          "model_module": "@jupyter-widgets/base",
          "model_name": "LayoutModel",
          "state": {
            "_view_name": "LayoutView",
            "grid_template_rows": null,
            "right": null,
            "justify_content": null,
            "_view_module": "@jupyter-widgets/base",
            "overflow": null,
            "_model_module_version": "1.2.0",
            "_view_count": null,
            "flex_flow": null,
            "width": null,
            "min_width": null,
            "border": null,
            "align_items": null,
            "bottom": null,
            "_model_module": "@jupyter-widgets/base",
            "top": null,
            "grid_column": null,
            "overflow_y": null,
            "overflow_x": null,
            "grid_auto_flow": null,
            "grid_area": null,
            "grid_template_columns": null,
            "flex": null,
            "_model_name": "LayoutModel",
            "justify_items": null,
            "grid_row": null,
            "max_height": null,
            "align_content": null,
            "visibility": null,
            "align_self": null,
            "height": null,
            "min_height": null,
            "padding": null,
            "grid_auto_rows": null,
            "grid_gap": null,
            "max_width": null,
            "order": null,
            "_view_module_version": "1.2.0",
            "grid_template_areas": null,
            "object_position": null,
            "object_fit": null,
            "grid_auto_columns": null,
            "margin": null,
            "display": null,
            "left": null
          }
        },
        "52259f6b5e3745bd856695f9d52035f1": {
          "model_module": "@jupyter-widgets/controls",
          "model_name": "DescriptionStyleModel",
          "state": {
            "_view_name": "StyleView",
            "_model_name": "DescriptionStyleModel",
            "description_width": "",
            "_view_module": "@jupyter-widgets/base",
            "_model_module_version": "1.5.0",
            "_view_count": null,
            "_view_module_version": "1.2.0",
            "_model_module": "@jupyter-widgets/controls"
          }
        },
        "0d3966d12379481c84ee01e70c74ccbc": {
          "model_module": "@jupyter-widgets/base",
          "model_name": "LayoutModel",
          "state": {
            "_view_name": "LayoutView",
            "grid_template_rows": null,
            "right": null,
            "justify_content": null,
            "_view_module": "@jupyter-widgets/base",
            "overflow": null,
            "_model_module_version": "1.2.0",
            "_view_count": null,
            "flex_flow": null,
            "width": null,
            "min_width": null,
            "border": null,
            "align_items": null,
            "bottom": null,
            "_model_module": "@jupyter-widgets/base",
            "top": null,
            "grid_column": null,
            "overflow_y": null,
            "overflow_x": null,
            "grid_auto_flow": null,
            "grid_area": null,
            "grid_template_columns": null,
            "flex": null,
            "_model_name": "LayoutModel",
            "justify_items": null,
            "grid_row": null,
            "max_height": null,
            "align_content": null,
            "visibility": null,
            "align_self": null,
            "height": null,
            "min_height": null,
            "padding": null,
            "grid_auto_rows": null,
            "grid_gap": null,
            "max_width": null,
            "order": null,
            "_view_module_version": "1.2.0",
            "grid_template_areas": null,
            "object_position": null,
            "object_fit": null,
            "grid_auto_columns": null,
            "margin": null,
            "display": null,
            "left": null
          }
        },
        "c6d3e7e7b2604a53ad6aecd041f22932": {
          "model_module": "@jupyter-widgets/controls",
          "model_name": "HBoxModel",
          "state": {
            "_view_name": "HBoxView",
            "_dom_classes": [],
            "_model_name": "HBoxModel",
            "_view_module": "@jupyter-widgets/controls",
            "_model_module_version": "1.5.0",
            "_view_count": null,
            "_view_module_version": "1.5.0",
            "box_style": "",
            "layout": "IPY_MODEL_d4ded8360a6d4f20b04b720017044edb",
            "_model_module": "@jupyter-widgets/controls",
            "children": [
              "IPY_MODEL_9baea99c4ad442e996a8a008dd018137",
              "IPY_MODEL_47c9ce04fc7840eea87e8c535df1e997"
            ]
          }
        },
        "d4ded8360a6d4f20b04b720017044edb": {
          "model_module": "@jupyter-widgets/base",
          "model_name": "LayoutModel",
          "state": {
            "_view_name": "LayoutView",
            "grid_template_rows": null,
            "right": null,
            "justify_content": null,
            "_view_module": "@jupyter-widgets/base",
            "overflow": null,
            "_model_module_version": "1.2.0",
            "_view_count": null,
            "flex_flow": null,
            "width": null,
            "min_width": null,
            "border": null,
            "align_items": null,
            "bottom": null,
            "_model_module": "@jupyter-widgets/base",
            "top": null,
            "grid_column": null,
            "overflow_y": null,
            "overflow_x": null,
            "grid_auto_flow": null,
            "grid_area": null,
            "grid_template_columns": null,
            "flex": null,
            "_model_name": "LayoutModel",
            "justify_items": null,
            "grid_row": null,
            "max_height": null,
            "align_content": null,
            "visibility": null,
            "align_self": null,
            "height": null,
            "min_height": null,
            "padding": null,
            "grid_auto_rows": null,
            "grid_gap": null,
            "max_width": null,
            "order": null,
            "_view_module_version": "1.2.0",
            "grid_template_areas": null,
            "object_position": null,
            "object_fit": null,
            "grid_auto_columns": null,
            "margin": null,
            "display": null,
            "left": null
          }
        },
        "9baea99c4ad442e996a8a008dd018137": {
          "model_module": "@jupyter-widgets/controls",
          "model_name": "FloatProgressModel",
          "state": {
            "_view_name": "ProgressView",
            "style": "IPY_MODEL_146c5c7004dc43918e6c0ac9c5f633e5",
            "_dom_classes": [],
            "description": "Dl Size...: ",
            "_model_name": "FloatProgressModel",
            "bar_style": "success",
            "max": 1,
            "_view_module": "@jupyter-widgets/controls",
            "_model_module_version": "1.5.0",
            "value": 0,
            "_view_count": null,
            "_view_module_version": "1.5.0",
            "orientation": "horizontal",
            "min": 0,
            "description_tooltip": null,
            "_model_module": "@jupyter-widgets/controls",
            "layout": "IPY_MODEL_2330ee3e0e7e4d99bb828c7a4930dfa2"
          }
        },
        "47c9ce04fc7840eea87e8c535df1e997": {
          "model_module": "@jupyter-widgets/controls",
          "model_name": "HTMLModel",
          "state": {
            "_view_name": "HTMLView",
            "style": "IPY_MODEL_1be946c37f4c4228a8d796cee957fd49",
            "_dom_classes": [],
            "description": "",
            "_model_name": "HTMLModel",
            "placeholder": "​",
            "_view_module": "@jupyter-widgets/controls",
            "_model_module_version": "1.5.0",
            "value": " 0/0 [00:00&lt;?, ? MiB/s]",
            "_view_count": null,
            "_view_module_version": "1.5.0",
            "description_tooltip": null,
            "_model_module": "@jupyter-widgets/controls",
            "layout": "IPY_MODEL_bbb52226617342fb8c9278f59da89c65"
          }
        },
        "146c5c7004dc43918e6c0ac9c5f633e5": {
          "model_module": "@jupyter-widgets/controls",
          "model_name": "ProgressStyleModel",
          "state": {
            "_view_name": "StyleView",
            "_model_name": "ProgressStyleModel",
            "description_width": "initial",
            "_view_module": "@jupyter-widgets/base",
            "_model_module_version": "1.5.0",
            "_view_count": null,
            "_view_module_version": "1.2.0",
            "bar_color": null,
            "_model_module": "@jupyter-widgets/controls"
          }
        },
        "2330ee3e0e7e4d99bb828c7a4930dfa2": {
          "model_module": "@jupyter-widgets/base",
          "model_name": "LayoutModel",
          "state": {
            "_view_name": "LayoutView",
            "grid_template_rows": null,
            "right": null,
            "justify_content": null,
            "_view_module": "@jupyter-widgets/base",
            "overflow": null,
            "_model_module_version": "1.2.0",
            "_view_count": null,
            "flex_flow": null,
            "width": null,
            "min_width": null,
            "border": null,
            "align_items": null,
            "bottom": null,
            "_model_module": "@jupyter-widgets/base",
            "top": null,
            "grid_column": null,
            "overflow_y": null,
            "overflow_x": null,
            "grid_auto_flow": null,
            "grid_area": null,
            "grid_template_columns": null,
            "flex": null,
            "_model_name": "LayoutModel",
            "justify_items": null,
            "grid_row": null,
            "max_height": null,
            "align_content": null,
            "visibility": null,
            "align_self": null,
            "height": null,
            "min_height": null,
            "padding": null,
            "grid_auto_rows": null,
            "grid_gap": null,
            "max_width": null,
            "order": null,
            "_view_module_version": "1.2.0",
            "grid_template_areas": null,
            "object_position": null,
            "object_fit": null,
            "grid_auto_columns": null,
            "margin": null,
            "display": null,
            "left": null
          }
        },
        "1be946c37f4c4228a8d796cee957fd49": {
          "model_module": "@jupyter-widgets/controls",
          "model_name": "DescriptionStyleModel",
          "state": {
            "_view_name": "StyleView",
            "_model_name": "DescriptionStyleModel",
            "description_width": "",
            "_view_module": "@jupyter-widgets/base",
            "_model_module_version": "1.5.0",
            "_view_count": null,
            "_view_module_version": "1.2.0",
            "_model_module": "@jupyter-widgets/controls"
          }
        },
        "bbb52226617342fb8c9278f59da89c65": {
          "model_module": "@jupyter-widgets/base",
          "model_name": "LayoutModel",
          "state": {
            "_view_name": "LayoutView",
            "grid_template_rows": null,
            "right": null,
            "justify_content": null,
            "_view_module": "@jupyter-widgets/base",
            "overflow": null,
            "_model_module_version": "1.2.0",
            "_view_count": null,
            "flex_flow": null,
            "width": null,
            "min_width": null,
            "border": null,
            "align_items": null,
            "bottom": null,
            "_model_module": "@jupyter-widgets/base",
            "top": null,
            "grid_column": null,
            "overflow_y": null,
            "overflow_x": null,
            "grid_auto_flow": null,
            "grid_area": null,
            "grid_template_columns": null,
            "flex": null,
            "_model_name": "LayoutModel",
            "justify_items": null,
            "grid_row": null,
            "max_height": null,
            "align_content": null,
            "visibility": null,
            "align_self": null,
            "height": null,
            "min_height": null,
            "padding": null,
            "grid_auto_rows": null,
            "grid_gap": null,
            "max_width": null,
            "order": null,
            "_view_module_version": "1.2.0",
            "grid_template_areas": null,
            "object_position": null,
            "object_fit": null,
            "grid_auto_columns": null,
            "margin": null,
            "display": null,
            "left": null
          }
        },
        "a71cb6d579204b8aa3097ce4deb7f906": {
          "model_module": "@jupyter-widgets/controls",
          "model_name": "HBoxModel",
          "state": {
            "_view_name": "HBoxView",
            "_dom_classes": [],
            "_model_name": "HBoxModel",
            "_view_module": "@jupyter-widgets/controls",
            "_model_module_version": "1.5.0",
            "_view_count": null,
            "_view_module_version": "1.5.0",
            "box_style": "",
            "layout": "IPY_MODEL_c2f76d5395df4668b301969ccee61846",
            "_model_module": "@jupyter-widgets/controls",
            "children": [
              "IPY_MODEL_888d9e3d157e4dfea35cd3dcfd66a7f2",
              "IPY_MODEL_833a8d9301e24d3b92e5155da985e0c7"
            ]
          }
        },
        "c2f76d5395df4668b301969ccee61846": {
          "model_module": "@jupyter-widgets/base",
          "model_name": "LayoutModel",
          "state": {
            "_view_name": "LayoutView",
            "grid_template_rows": null,
            "right": null,
            "justify_content": null,
            "_view_module": "@jupyter-widgets/base",
            "overflow": null,
            "_model_module_version": "1.2.0",
            "_view_count": null,
            "flex_flow": null,
            "width": null,
            "min_width": null,
            "border": null,
            "align_items": null,
            "bottom": null,
            "_model_module": "@jupyter-widgets/base",
            "top": null,
            "grid_column": null,
            "overflow_y": null,
            "overflow_x": null,
            "grid_auto_flow": null,
            "grid_area": null,
            "grid_template_columns": null,
            "flex": null,
            "_model_name": "LayoutModel",
            "justify_items": null,
            "grid_row": null,
            "max_height": null,
            "align_content": null,
            "visibility": null,
            "align_self": null,
            "height": null,
            "min_height": null,
            "padding": null,
            "grid_auto_rows": null,
            "grid_gap": null,
            "max_width": null,
            "order": null,
            "_view_module_version": "1.2.0",
            "grid_template_areas": null,
            "object_position": null,
            "object_fit": null,
            "grid_auto_columns": null,
            "margin": null,
            "display": null,
            "left": null
          }
        },
        "888d9e3d157e4dfea35cd3dcfd66a7f2": {
          "model_module": "@jupyter-widgets/controls",
          "model_name": "FloatProgressModel",
          "state": {
            "_view_name": "ProgressView",
            "style": "IPY_MODEL_eab9809faa754711b8632573414c44cf",
            "_dom_classes": [],
            "description": "",
            "_model_name": "FloatProgressModel",
            "bar_style": "info",
            "max": 1,
            "_view_module": "@jupyter-widgets/controls",
            "_model_module_version": "1.5.0",
            "value": 1,
            "_view_count": null,
            "_view_module_version": "1.5.0",
            "orientation": "horizontal",
            "min": 0,
            "description_tooltip": null,
            "_model_module": "@jupyter-widgets/controls",
            "layout": "IPY_MODEL_de44c9b9e4d04921bb9be07281230588"
          }
        },
        "833a8d9301e24d3b92e5155da985e0c7": {
          "model_module": "@jupyter-widgets/controls",
          "model_name": "HTMLModel",
          "state": {
            "_view_name": "HTMLView",
            "style": "IPY_MODEL_1ad6f0b48db84cccbdf3e64326b8f8a7",
            "_dom_classes": [],
            "description": "",
            "_model_name": "HTMLModel",
            "placeholder": "​",
            "_view_module": "@jupyter-widgets/controls",
            "_model_module_version": "1.5.0",
            "value": " 1599/0 [00:01&lt;00:00, 1102.05 examples/s]",
            "_view_count": null,
            "_view_module_version": "1.5.0",
            "description_tooltip": null,
            "_model_module": "@jupyter-widgets/controls",
            "layout": "IPY_MODEL_1c7564e4a7694c93bf7d80f5ebd53379"
          }
        },
        "eab9809faa754711b8632573414c44cf": {
          "model_module": "@jupyter-widgets/controls",
          "model_name": "ProgressStyleModel",
          "state": {
            "_view_name": "StyleView",
            "_model_name": "ProgressStyleModel",
            "description_width": "initial",
            "_view_module": "@jupyter-widgets/base",
            "_model_module_version": "1.5.0",
            "_view_count": null,
            "_view_module_version": "1.2.0",
            "bar_color": null,
            "_model_module": "@jupyter-widgets/controls"
          }
        },
        "de44c9b9e4d04921bb9be07281230588": {
          "model_module": "@jupyter-widgets/base",
          "model_name": "LayoutModel",
          "state": {
            "_view_name": "LayoutView",
            "grid_template_rows": null,
            "right": null,
            "justify_content": null,
            "_view_module": "@jupyter-widgets/base",
            "overflow": null,
            "_model_module_version": "1.2.0",
            "_view_count": null,
            "flex_flow": null,
            "width": null,
            "min_width": null,
            "border": null,
            "align_items": null,
            "bottom": null,
            "_model_module": "@jupyter-widgets/base",
            "top": null,
            "grid_column": null,
            "overflow_y": null,
            "overflow_x": null,
            "grid_auto_flow": null,
            "grid_area": null,
            "grid_template_columns": null,
            "flex": null,
            "_model_name": "LayoutModel",
            "justify_items": null,
            "grid_row": null,
            "max_height": null,
            "align_content": null,
            "visibility": null,
            "align_self": null,
            "height": null,
            "min_height": null,
            "padding": null,
            "grid_auto_rows": null,
            "grid_gap": null,
            "max_width": null,
            "order": null,
            "_view_module_version": "1.2.0",
            "grid_template_areas": null,
            "object_position": null,
            "object_fit": null,
            "grid_auto_columns": null,
            "margin": null,
            "display": null,
            "left": null
          }
        },
        "1ad6f0b48db84cccbdf3e64326b8f8a7": {
          "model_module": "@jupyter-widgets/controls",
          "model_name": "DescriptionStyleModel",
          "state": {
            "_view_name": "StyleView",
            "_model_name": "DescriptionStyleModel",
            "description_width": "",
            "_view_module": "@jupyter-widgets/base",
            "_model_module_version": "1.5.0",
            "_view_count": null,
            "_view_module_version": "1.2.0",
            "_model_module": "@jupyter-widgets/controls"
          }
        },
        "1c7564e4a7694c93bf7d80f5ebd53379": {
          "model_module": "@jupyter-widgets/base",
          "model_name": "LayoutModel",
          "state": {
            "_view_name": "LayoutView",
            "grid_template_rows": null,
            "right": null,
            "justify_content": null,
            "_view_module": "@jupyter-widgets/base",
            "overflow": null,
            "_model_module_version": "1.2.0",
            "_view_count": null,
            "flex_flow": null,
            "width": null,
            "min_width": null,
            "border": null,
            "align_items": null,
            "bottom": null,
            "_model_module": "@jupyter-widgets/base",
            "top": null,
            "grid_column": null,
            "overflow_y": null,
            "overflow_x": null,
            "grid_auto_flow": null,
            "grid_area": null,
            "grid_template_columns": null,
            "flex": null,
            "_model_name": "LayoutModel",
            "justify_items": null,
            "grid_row": null,
            "max_height": null,
            "align_content": null,
            "visibility": null,
            "align_self": null,
            "height": null,
            "min_height": null,
            "padding": null,
            "grid_auto_rows": null,
            "grid_gap": null,
            "max_width": null,
            "order": null,
            "_view_module_version": "1.2.0",
            "grid_template_areas": null,
            "object_position": null,
            "object_fit": null,
            "grid_auto_columns": null,
            "margin": null,
            "display": null,
            "left": null
          }
        },
        "5df014b54bcb48a1b56eb6c8df71f7c6": {
          "model_module": "@jupyter-widgets/controls",
          "model_name": "HBoxModel",
          "state": {
            "_view_name": "HBoxView",
            "_dom_classes": [],
            "_model_name": "HBoxModel",
            "_view_module": "@jupyter-widgets/controls",
            "_model_module_version": "1.5.0",
            "_view_count": null,
            "_view_module_version": "1.5.0",
            "box_style": "",
            "layout": "IPY_MODEL_a109f97011fc4cac90c5408ca05d92bd",
            "_model_module": "@jupyter-widgets/controls",
            "children": [
              "IPY_MODEL_1cb22f45e3054a198005804581e0f2df",
              "IPY_MODEL_8f17305eed954584be175002ca9f8be7"
            ]
          }
        },
        "a109f97011fc4cac90c5408ca05d92bd": {
          "model_module": "@jupyter-widgets/base",
          "model_name": "LayoutModel",
          "state": {
            "_view_name": "LayoutView",
            "grid_template_rows": null,
            "right": null,
            "justify_content": null,
            "_view_module": "@jupyter-widgets/base",
            "overflow": null,
            "_model_module_version": "1.2.0",
            "_view_count": null,
            "flex_flow": null,
            "width": null,
            "min_width": null,
            "border": null,
            "align_items": null,
            "bottom": null,
            "_model_module": "@jupyter-widgets/base",
            "top": null,
            "grid_column": null,
            "overflow_y": null,
            "overflow_x": null,
            "grid_auto_flow": null,
            "grid_area": null,
            "grid_template_columns": null,
            "flex": null,
            "_model_name": "LayoutModel",
            "justify_items": null,
            "grid_row": null,
            "max_height": null,
            "align_content": null,
            "visibility": null,
            "align_self": null,
            "height": null,
            "min_height": null,
            "padding": null,
            "grid_auto_rows": null,
            "grid_gap": null,
            "max_width": null,
            "order": null,
            "_view_module_version": "1.2.0",
            "grid_template_areas": null,
            "object_position": null,
            "object_fit": null,
            "grid_auto_columns": null,
            "margin": null,
            "display": null,
            "left": null
          }
        },
        "1cb22f45e3054a198005804581e0f2df": {
          "model_module": "@jupyter-widgets/controls",
          "model_name": "FloatProgressModel",
          "state": {
            "_view_name": "ProgressView",
            "style": "IPY_MODEL_81896ae2046942d9a60f687808951f63",
            "_dom_classes": [],
            "description": "  0%",
            "_model_name": "FloatProgressModel",
            "bar_style": "danger",
            "max": 1599,
            "_view_module": "@jupyter-widgets/controls",
            "_model_module_version": "1.5.0",
            "value": 0,
            "_view_count": null,
            "_view_module_version": "1.5.0",
            "orientation": "horizontal",
            "min": 0,
            "description_tooltip": null,
            "_model_module": "@jupyter-widgets/controls",
            "layout": "IPY_MODEL_9bd328388d1f497abf52205377a48fe8"
          }
        },
        "8f17305eed954584be175002ca9f8be7": {
          "model_module": "@jupyter-widgets/controls",
          "model_name": "HTMLModel",
          "state": {
            "_view_name": "HTMLView",
            "style": "IPY_MODEL_6a2ac4987429454b830b4318b27c9c31",
            "_dom_classes": [],
            "description": "",
            "_model_name": "HTMLModel",
            "placeholder": "​",
            "_view_module": "@jupyter-widgets/controls",
            "_model_module_version": "1.5.0",
            "value": " 0/1599 [00:00&lt;?, ? examples/s]",
            "_view_count": null,
            "_view_module_version": "1.5.0",
            "description_tooltip": null,
            "_model_module": "@jupyter-widgets/controls",
            "layout": "IPY_MODEL_47d8d0c8fb344e209931d6d5fb4ec8a5"
          }
        },
        "81896ae2046942d9a60f687808951f63": {
          "model_module": "@jupyter-widgets/controls",
          "model_name": "ProgressStyleModel",
          "state": {
            "_view_name": "StyleView",
            "_model_name": "ProgressStyleModel",
            "description_width": "initial",
            "_view_module": "@jupyter-widgets/base",
            "_model_module_version": "1.5.0",
            "_view_count": null,
            "_view_module_version": "1.2.0",
            "bar_color": null,
            "_model_module": "@jupyter-widgets/controls"
          }
        },
        "9bd328388d1f497abf52205377a48fe8": {
          "model_module": "@jupyter-widgets/base",
          "model_name": "LayoutModel",
          "state": {
            "_view_name": "LayoutView",
            "grid_template_rows": null,
            "right": null,
            "justify_content": null,
            "_view_module": "@jupyter-widgets/base",
            "overflow": null,
            "_model_module_version": "1.2.0",
            "_view_count": null,
            "flex_flow": null,
            "width": null,
            "min_width": null,
            "border": null,
            "align_items": null,
            "bottom": null,
            "_model_module": "@jupyter-widgets/base",
            "top": null,
            "grid_column": null,
            "overflow_y": null,
            "overflow_x": null,
            "grid_auto_flow": null,
            "grid_area": null,
            "grid_template_columns": null,
            "flex": null,
            "_model_name": "LayoutModel",
            "justify_items": null,
            "grid_row": null,
            "max_height": null,
            "align_content": null,
            "visibility": null,
            "align_self": null,
            "height": null,
            "min_height": null,
            "padding": null,
            "grid_auto_rows": null,
            "grid_gap": null,
            "max_width": null,
            "order": null,
            "_view_module_version": "1.2.0",
            "grid_template_areas": null,
            "object_position": null,
            "object_fit": null,
            "grid_auto_columns": null,
            "margin": null,
            "display": null,
            "left": null
          }
        },
        "6a2ac4987429454b830b4318b27c9c31": {
          "model_module": "@jupyter-widgets/controls",
          "model_name": "DescriptionStyleModel",
          "state": {
            "_view_name": "StyleView",
            "_model_name": "DescriptionStyleModel",
            "description_width": "",
            "_view_module": "@jupyter-widgets/base",
            "_model_module_version": "1.5.0",
            "_view_count": null,
            "_view_module_version": "1.2.0",
            "_model_module": "@jupyter-widgets/controls"
          }
        },
        "47d8d0c8fb344e209931d6d5fb4ec8a5": {
          "model_module": "@jupyter-widgets/base",
          "model_name": "LayoutModel",
          "state": {
            "_view_name": "LayoutView",
            "grid_template_rows": null,
            "right": null,
            "justify_content": null,
            "_view_module": "@jupyter-widgets/base",
            "overflow": null,
            "_model_module_version": "1.2.0",
            "_view_count": null,
            "flex_flow": null,
            "width": null,
            "min_width": null,
            "border": null,
            "align_items": null,
            "bottom": null,
            "_model_module": "@jupyter-widgets/base",
            "top": null,
            "grid_column": null,
            "overflow_y": null,
            "overflow_x": null,
            "grid_auto_flow": null,
            "grid_area": null,
            "grid_template_columns": null,
            "flex": null,
            "_model_name": "LayoutModel",
            "justify_items": null,
            "grid_row": null,
            "max_height": null,
            "align_content": null,
            "visibility": null,
            "align_self": null,
            "height": null,
            "min_height": null,
            "padding": null,
            "grid_auto_rows": null,
            "grid_gap": null,
            "max_width": null,
            "order": null,
            "_view_module_version": "1.2.0",
            "grid_template_areas": null,
            "object_position": null,
            "object_fit": null,
            "grid_auto_columns": null,
            "margin": null,
            "display": null,
            "left": null
          }
        }
      }
    }
  },
  "cells": [
    {
      "cell_type": "markdown",
      "metadata": {
        "id": "view-in-github",
        "colab_type": "text"
      },
      "source": [
        "<a href=\"https://colab.research.google.com/github/BenjaminMoreau2000/phsx815_week-9-/blob/main/HW11.ipynb\" target=\"_parent\"><img src=\"https://colab.research.google.com/assets/colab-badge.svg\" alt=\"Open In Colab\"/></a>"
      ]
    },
    {
      "cell_type": "markdown",
      "metadata": {
        "id": "Hj-nrFkE0w4d"
      },
      "source": [
        "## PHSX 815 Neural Network with Keras tutorial\n",
        "### How can we predict the quality of wine based on its physical characteristics?\n",
        "We will download the `wine_quality` dataset from Tensorflow (the Keras backend) to train a neural network to predict wine quality."
      ]
    },
    {
      "cell_type": "code",
      "metadata": {
        "colab": {
          "base_uri": "https://localhost:8080/"
        },
        "id": "MWyoLVbcyqBQ",
        "outputId": "0da46645-859c-4cc1-e45a-3ac65dc2d9ef"
      },
      "source": [
        "#@title GPU Connector \n",
        "#If you run this in Google Colab you can borrow one of their 4000$ GPUs to make it run much faster\n",
        "!nvidia-smi -L\n",
        "executeCell = True"
      ],
      "execution_count": null,
      "outputs": [
        {
          "output_type": "stream",
          "text": [
            "GPU 0: Tesla T4 (UUID: GPU-e6221cc2-8d2b-3eea-1133-1b8e2cdaaef7)\n"
          ],
          "name": "stdout"
        }
      ]
    },
    {
      "cell_type": "code",
      "metadata": {
        "id": "ZAGS4aH_BPGN",
        "colab": {
          "base_uri": "https://localhost:8080/"
        },
        "outputId": "5ce37926-f1f1-49e1-f2b3-14b3e71deb30"
      },
      "source": [
        "#@title Google Drive Connector\n",
        "\n",
        "#This is not needed but I included it anyway.\n",
        "from google.colab import drive\n",
        "drive.mount('/content/gdrive')\n",
        "executeCell = True"
      ],
      "execution_count": null,
      "outputs": [
        {
          "output_type": "stream",
          "text": [
            "Mounted at /content/gdrive\n"
          ],
          "name": "stdout"
        }
      ]
    },
    {
      "cell_type": "code",
      "metadata": {
        "id": "nU61xDfc0w4h"
      },
      "source": [
        "import matplotlib.pyplot as plt\n",
        "import seaborn as sns\n",
        "import numpy as np\n",
        "from sklearn.preprocessing import OneHotEncoder, MinMaxScaler\n",
        "from sklearn.metrics import confusion_matrix\n",
        "from sklearn.model_selection import train_test_split\n",
        "import pandas as pd\n",
        "\n",
        "import tensorflow as tf\n",
        "from tensorflow.keras.models import Sequential, Model\n",
        "from tensorflow.keras.layers import *\n",
        "# from tensorflow.keras.optimizers import SGD, Adam\n",
        "# from tensorflow.keras.activations import relu\n",
        "import tensorflow_datasets as tfds\n",
        "from IPython.core.interactiveshell import InteractiveShell\n",
        "InteractiveShell.ast_node_interactivity = \"all\""
      ],
      "execution_count": null,
      "outputs": []
    },
    {
      "cell_type": "code",
      "metadata": {
        "colab": {
          "base_uri": "https://localhost:8080/",
          "height": 535,
          "referenced_widgets": [
            "17f702e534e3496db93f2aa03af70a15",
            "a4bff44de72549a894a3c774dcca307f",
            "97e660e30fb04cd6aa9f0b69e392df42",
            "14400f7eefe244ee86f7a72c058fc2e6",
            "1a5b560334de4ed7bba43337231fc69e",
            "705286f7407244f3bd6d3d7efc5e737f",
            "518ea53d7033459aa3426a90392f51ec",
            "f4b0d041458242eb8e8604a8acc82cd1",
            "a2392a1675e44dd9acca0dfe24af575b",
            "0948c90f996b45bea686e8ffa55b1472",
            "a86d10fc0b9e4fdcb97f714547574008",
            "d3a39d03adf24d5fbfa0e8d177d654dd",
            "3a42f1e0ef494f08a423df69f9a6bd68",
            "b6283b4871aa46f1b888e84bfe37e6a0",
            "a249928d8c3c4c6ba5f5b463247a75ae",
            "f2f5afd07a724acf924a7a2ba880595b",
            "2da35590d4af4403b404ec409ba652c5",
            "b75e65dc79eb4dcd9a8e39fba18383ac",
            "f6810d8a4fa64261ba14e06904a6b6e5",
            "92bd9685216346a59314f0e3e8427486",
            "f6fe4816dd054f7cb5db0d061f703e67",
            "f6d91ca0dc0645929658530653daca33",
            "a802eab166464cac88cecfa1df94a01b",
            "f8fc3978e66d4f34bcf3b50a4c5b0a2b",
            "bb61cca173584a4186c8575481396fbc",
            "6c803003c33e483ebaadca8e85c0683e",
            "30b2f814b76f48b8b64534ab11e35b80",
            "532de0ec5e844a1ebef8cb3a213f0009",
            "4409eeacc87841d7b174dacec1251b32",
            "835fc4b2144d44d4a4182e8ffb457855",
            "b8842bdeee944b54a3fb6becd7e2530f",
            "f47a38c9f3c54c71bdd2b6f0a91f1c88",
            "9c1c56dadb4e4ed1b51ef5e89da57187",
            "4a796d5481904bcd8d18bea1591a1ca2",
            "c150ea116dd5484099ab900482533b18",
            "ca046c59f0304683a3addc127e8301f1",
            "58ed17dd70404ac38f33dc7f320f149c",
            "7dc143981a5b4b7c90f91fd12efaec56",
            "52259f6b5e3745bd856695f9d52035f1",
            "0d3966d12379481c84ee01e70c74ccbc",
            "c6d3e7e7b2604a53ad6aecd041f22932",
            "d4ded8360a6d4f20b04b720017044edb",
            "9baea99c4ad442e996a8a008dd018137",
            "47c9ce04fc7840eea87e8c535df1e997",
            "146c5c7004dc43918e6c0ac9c5f633e5",
            "2330ee3e0e7e4d99bb828c7a4930dfa2",
            "1be946c37f4c4228a8d796cee957fd49",
            "bbb52226617342fb8c9278f59da89c65",
            "a71cb6d579204b8aa3097ce4deb7f906",
            "c2f76d5395df4668b301969ccee61846",
            "888d9e3d157e4dfea35cd3dcfd66a7f2",
            "833a8d9301e24d3b92e5155da985e0c7",
            "eab9809faa754711b8632573414c44cf",
            "de44c9b9e4d04921bb9be07281230588",
            "1ad6f0b48db84cccbdf3e64326b8f8a7",
            "1c7564e4a7694c93bf7d80f5ebd53379",
            "5df014b54bcb48a1b56eb6c8df71f7c6",
            "a109f97011fc4cac90c5408ca05d92bd",
            "1cb22f45e3054a198005804581e0f2df",
            "8f17305eed954584be175002ca9f8be7",
            "81896ae2046942d9a60f687808951f63",
            "9bd328388d1f497abf52205377a48fe8",
            "6a2ac4987429454b830b4318b27c9c31",
            "47d8d0c8fb344e209931d6d5fb4ec8a5"
          ]
        },
        "id": "sskZ_Ubu0w4i",
        "outputId": "d72bfff2-5062-42b4-fbb2-df38bac932cc"
      },
      "source": [
        "#if you want to load the data as tuples, you can use the as_supervised=True argument\n",
        "data_train = tfds.load('wine_quality',split='train',as_supervised=True)\n",
        "\n",
        "#looking at just one sample of our data\n",
        "pt = data_train.take(1)\n",
        "# type(pt)\n",
        "\n",
        "#can convert this TakeDataset object to a numpy array (can do this for the whole dataset too)\n",
        "print(\"Features and label for first entry\")\n",
        "for features, label in tfds.as_numpy(pt):\n",
        "    print(features,label)\n",
        "\n",
        "#we want to load dataset as a a dictionary of tf.Tensors (can't transform tuples to dataframe)\n",
        "data_train_white = tfds.load('wine_quality/white',split='train')\n",
        "data_train_red = tfds.load('wine_quality/red',split='train')\n",
        "\n",
        "#transform dictionary to dataframe - combining red and white wine\n",
        "df_white = tfds.as_dataframe(data_train_white)\n",
        "df_red = tfds.as_dataframe(data_train_red)\n",
        "df = pd.concat([df_white,df_red])\n",
        "\n",
        "print('number of samples',len(df['quality']))\n",
        "#what are our output possibilities?\n",
        "#Response:\n",
        "#Later on it says that there should be integer values from 5 to 9, but actually this data set includes wines with quality from 3 to 9, so I'm not exactly sure what is being asked.\n",
        "\n",
        "print('possible wine quality ratings',df['quality'].unique())"
      ],
      "execution_count": null,
      "outputs": [
        {
          "output_type": "stream",
          "text": [
            "\u001b[1mDownloading and preparing dataset wine_quality/white/1.0.0 (download: 258.23 KiB, generated: 1.87 MiB, total: 2.13 MiB) to /root/tensorflow_datasets/wine_quality/white/1.0.0...\u001b[0m\n"
          ],
          "name": "stdout"
        },
        {
          "output_type": "display_data",
          "data": {
            "application/vnd.jupyter.widget-view+json": {
              "model_id": "17f702e534e3496db93f2aa03af70a15",
              "version_minor": 0,
              "version_major": 2
            },
            "text/plain": [
              "HBox(children=(FloatProgress(value=1.0, bar_style='info', description='Dl Completed...', max=1.0, style=Progre…"
            ]
          },
          "metadata": {
            "tags": []
          }
        },
        {
          "output_type": "display_data",
          "data": {
            "application/vnd.jupyter.widget-view+json": {
              "model_id": "a2392a1675e44dd9acca0dfe24af575b",
              "version_minor": 0,
              "version_major": 2
            },
            "text/plain": [
              "HBox(children=(FloatProgress(value=1.0, bar_style='info', description='Dl Size...', max=1.0, style=ProgressSty…"
            ]
          },
          "metadata": {
            "tags": []
          }
        },
        {
          "output_type": "stream",
          "text": [
            "\n",
            "\n",
            "\n",
            "\n"
          ],
          "name": "stdout"
        },
        {
          "output_type": "display_data",
          "data": {
            "application/vnd.jupyter.widget-view+json": {
              "model_id": "2da35590d4af4403b404ec409ba652c5",
              "version_minor": 0,
              "version_major": 2
            },
            "text/plain": [
              "HBox(children=(FloatProgress(value=1.0, bar_style='info', max=1.0), HTML(value='')))"
            ]
          },
          "metadata": {
            "tags": []
          }
        },
        {
          "output_type": "stream",
          "text": [
            "\rShuffling and writing examples to /root/tensorflow_datasets/wine_quality/white/1.0.0.incompleteRDZQ7B/wine_quality-train.tfrecord\n"
          ],
          "name": "stdout"
        },
        {
          "output_type": "display_data",
          "data": {
            "application/vnd.jupyter.widget-view+json": {
              "model_id": "bb61cca173584a4186c8575481396fbc",
              "version_minor": 0,
              "version_major": 2
            },
            "text/plain": [
              "HBox(children=(FloatProgress(value=0.0, max=4898.0), HTML(value='')))"
            ]
          },
          "metadata": {
            "tags": []
          }
        },
        {
          "output_type": "stream",
          "text": [
            "\u001b[1mDataset wine_quality downloaded and prepared to /root/tensorflow_datasets/wine_quality/white/1.0.0. Subsequent calls will reuse this data.\u001b[0m\n",
            "Features and label for first entry\n",
            "{'alcohol': 9.0, 'chlorides': 0.054, 'citric acid': 0.34, 'density': 1.0008, 'fixed acidity': 7.6, 'free sulfur dioxide': 44.0, 'pH': 3.22, 'residual sugar': 18.35, 'sulphates': 0.550000011920929, 'total sulfur dioxide': 197.0, 'volatile acidity': 0.32} 5\n",
            "\u001b[1mDownloading and preparing dataset wine_quality/red/1.0.0 (download: 82.23 KiB, generated: 626.17 KiB, total: 708.40 KiB) to /root/tensorflow_datasets/wine_quality/red/1.0.0...\u001b[0m\n"
          ],
          "name": "stdout"
        },
        {
          "output_type": "display_data",
          "data": {
            "application/vnd.jupyter.widget-view+json": {
              "model_id": "9c1c56dadb4e4ed1b51ef5e89da57187",
              "version_minor": 0,
              "version_major": 2
            },
            "text/plain": [
              "HBox(children=(FloatProgress(value=1.0, bar_style='info', description='Dl Completed...', max=1.0, style=Progre…"
            ]
          },
          "metadata": {
            "tags": []
          }
        },
        {
          "output_type": "display_data",
          "data": {
            "application/vnd.jupyter.widget-view+json": {
              "model_id": "c6d3e7e7b2604a53ad6aecd041f22932",
              "version_minor": 0,
              "version_major": 2
            },
            "text/plain": [
              "HBox(children=(FloatProgress(value=1.0, bar_style='info', description='Dl Size...', max=1.0, style=ProgressSty…"
            ]
          },
          "metadata": {
            "tags": []
          }
        },
        {
          "output_type": "stream",
          "text": [
            "\n",
            "\n",
            "\n",
            "\n"
          ],
          "name": "stdout"
        },
        {
          "output_type": "display_data",
          "data": {
            "application/vnd.jupyter.widget-view+json": {
              "model_id": "a71cb6d579204b8aa3097ce4deb7f906",
              "version_minor": 0,
              "version_major": 2
            },
            "text/plain": [
              "HBox(children=(FloatProgress(value=1.0, bar_style='info', max=1.0), HTML(value='')))"
            ]
          },
          "metadata": {
            "tags": []
          }
        },
        {
          "output_type": "stream",
          "text": [
            "\rShuffling and writing examples to /root/tensorflow_datasets/wine_quality/red/1.0.0.incompleteZMOE2I/wine_quality-train.tfrecord\n"
          ],
          "name": "stdout"
        },
        {
          "output_type": "display_data",
          "data": {
            "application/vnd.jupyter.widget-view+json": {
              "model_id": "5df014b54bcb48a1b56eb6c8df71f7c6",
              "version_minor": 0,
              "version_major": 2
            },
            "text/plain": [
              "HBox(children=(FloatProgress(value=0.0, max=1599.0), HTML(value='')))"
            ]
          },
          "metadata": {
            "tags": []
          }
        },
        {
          "output_type": "stream",
          "text": [
            "\u001b[1mDataset wine_quality downloaded and prepared to /root/tensorflow_datasets/wine_quality/red/1.0.0. Subsequent calls will reuse this data.\u001b[0m\n",
            "\rnumber of samples 6497\n",
            "possible wine quality ratings [5 6 4 8 7 3 9]\n"
          ],
          "name": "stdout"
        }
      ]
    },
    {
      "cell_type": "code",
      "metadata": {
        "colab": {
          "base_uri": "https://localhost:8080/"
        },
        "id": "zbmoGzsp0w4j",
        "outputId": "3121cd8f-e1f9-4223-e708-0287a17ff295"
      },
      "source": [
        "#do we have any missing data (empty or NaN entries in features or labels)?\n",
        "#We don't. I look at the output of print(df) just to see if I could spot any as an extra check, but we are indeed all good.\n",
        "dataNans = df.isnull().values.any()\n",
        "if not dataNans:\n",
        "    print(\"all good!\")"
      ],
      "execution_count": null,
      "outputs": [
        {
          "output_type": "stream",
          "text": [
            "all good!\n"
          ],
          "name": "stdout"
        }
      ]
    },
    {
      "cell_type": "markdown",
      "metadata": {
        "id": "AvVFS4xf0w4j"
      },
      "source": [
        "### Preprocessing our labels\n",
        "Although this may seem like a regression task for a neural network because we are predicting a number (wine quality), the labels are actually *categorical* not *continuous*. If you look at the labels, you see that they are integer values between 5 and 9. Because this is a classification problem, we need to one-hot encode our labels. This means taking our possible outcomes and turning them into arrays of a 1 and 0's. The index of the 1 in the array will tell us which class is which. So, for example, 5 becomes [1,0,0,0,0], 6 becomes [0,1,0,0,0] and so on. We can use a function from sklearn to do this automatically."
      ]
    },
    {
      "cell_type": "markdown",
      "metadata": {
        "id": "FY8scmzg0w4j"
      },
      "source": [
        "this dataset unfortunately only gives us training data - but we can set aside a portion for testing our network on. in practice, you don't want to test your network on data it has already seen (is it really a prediction if you use your model on data it was fitted to?) but, for educational purposes, we can ~randomly sample our data and call it ~iid.\n",
        "Here, I combine the red and white wine datasets for increased statistics. What happens if you train networks on these datasets separately? Or what happens if you use one dataset to train and one to test?"
      ]
    },
    {
      "cell_type": "code",
      "metadata": {
        "colab": {
          "base_uri": "https://localhost:8080/",
          "height": 275
        },
        "id": "bEMj0-su0w4j",
        "outputId": "0c8f32ca-f64f-4395-e41b-728442ba82a1"
      },
      "source": [
        "#it's helpful to separate our input features from our target features (quality) \n",
        "#so we can later only transform our inputs without changing our labels\n",
        "labels = df['quality']\n",
        "df = df.drop(labels='quality',axis=1)\n",
        "labels.unique()\n",
        "\n",
        "enc = OneHotEncoder(sparse=False)\n",
        "labels = enc.fit_transform(labels.to_numpy().reshape(-1,1))\n",
        "\n",
        "#make our test data\n",
        "df, df_test, labels, df_testLabels = train_test_split(df,labels,test_size=0.1)\n",
        "\n",
        "#look at the first 5 entries\n",
        "df.head()"
      ],
      "execution_count": null,
      "outputs": [
        {
          "output_type": "execute_result",
          "data": {
            "text/plain": [
              "array([5, 6, 4, 8, 7, 3, 9])"
            ]
          },
          "metadata": {
            "tags": []
          },
          "execution_count": 6
        },
        {
          "output_type": "execute_result",
          "data": {
            "text/html": [
              "<div>\n",
              "<style scoped>\n",
              "    .dataframe tbody tr th:only-of-type {\n",
              "        vertical-align: middle;\n",
              "    }\n",
              "\n",
              "    .dataframe tbody tr th {\n",
              "        vertical-align: top;\n",
              "    }\n",
              "\n",
              "    .dataframe thead th {\n",
              "        text-align: right;\n",
              "    }\n",
              "</style>\n",
              "<table border=\"1\" class=\"dataframe\">\n",
              "  <thead>\n",
              "    <tr style=\"text-align: right;\">\n",
              "      <th></th>\n",
              "      <th>features/alcohol</th>\n",
              "      <th>features/chlorides</th>\n",
              "      <th>features/citric acid</th>\n",
              "      <th>features/density</th>\n",
              "      <th>features/fixed acidity</th>\n",
              "      <th>features/free sulfur dioxide</th>\n",
              "      <th>features/pH</th>\n",
              "      <th>features/residual sugar</th>\n",
              "      <th>features/sulphates</th>\n",
              "      <th>features/total sulfur dioxide</th>\n",
              "      <th>features/volatile acidity</th>\n",
              "    </tr>\n",
              "  </thead>\n",
              "  <tbody>\n",
              "    <tr>\n",
              "      <th>4848</th>\n",
              "      <td>12.5</td>\n",
              "      <td>0.038</td>\n",
              "      <td>0.36</td>\n",
              "      <td>0.99140</td>\n",
              "      <td>7.2</td>\n",
              "      <td>26.0</td>\n",
              "      <td>2.93</td>\n",
              "      <td>5.7</td>\n",
              "      <td>0.59</td>\n",
              "      <td>98.0</td>\n",
              "      <td>0.36</td>\n",
              "    </tr>\n",
              "    <tr>\n",
              "      <th>484</th>\n",
              "      <td>9.8</td>\n",
              "      <td>0.041</td>\n",
              "      <td>0.22</td>\n",
              "      <td>0.99570</td>\n",
              "      <td>6.2</td>\n",
              "      <td>26.0</td>\n",
              "      <td>3.44</td>\n",
              "      <td>7.3</td>\n",
              "      <td>0.64</td>\n",
              "      <td>157.0</td>\n",
              "      <td>0.28</td>\n",
              "    </tr>\n",
              "    <tr>\n",
              "      <th>1935</th>\n",
              "      <td>11.0</td>\n",
              "      <td>0.015</td>\n",
              "      <td>0.32</td>\n",
              "      <td>0.99278</td>\n",
              "      <td>7.8</td>\n",
              "      <td>47.0</td>\n",
              "      <td>2.99</td>\n",
              "      <td>7.4</td>\n",
              "      <td>0.39</td>\n",
              "      <td>124.0</td>\n",
              "      <td>0.19</td>\n",
              "    </tr>\n",
              "    <tr>\n",
              "      <th>444</th>\n",
              "      <td>11.0</td>\n",
              "      <td>0.029</td>\n",
              "      <td>0.18</td>\n",
              "      <td>0.99060</td>\n",
              "      <td>5.7</td>\n",
              "      <td>26.0</td>\n",
              "      <td>3.44</td>\n",
              "      <td>1.4</td>\n",
              "      <td>0.37</td>\n",
              "      <td>104.0</td>\n",
              "      <td>0.32</td>\n",
              "    </tr>\n",
              "    <tr>\n",
              "      <th>2554</th>\n",
              "      <td>10.4</td>\n",
              "      <td>0.035</td>\n",
              "      <td>0.28</td>\n",
              "      <td>0.99486</td>\n",
              "      <td>6.2</td>\n",
              "      <td>28.0</td>\n",
              "      <td>3.40</td>\n",
              "      <td>8.5</td>\n",
              "      <td>0.42</td>\n",
              "      <td>108.0</td>\n",
              "      <td>0.25</td>\n",
              "    </tr>\n",
              "  </tbody>\n",
              "</table>\n",
              "</div>"
            ],
            "text/plain": [
              "      features/alcohol  ...  features/volatile acidity\n",
              "4848              12.5  ...                       0.36\n",
              "484                9.8  ...                       0.28\n",
              "1935              11.0  ...                       0.19\n",
              "444               11.0  ...                       0.32\n",
              "2554              10.4  ...                       0.25\n",
              "\n",
              "[5 rows x 11 columns]"
            ]
          },
          "metadata": {
            "tags": []
          },
          "execution_count": 6
        }
      ]
    },
    {
      "cell_type": "markdown",
      "metadata": {
        "id": "I6itiWGS0w4k"
      },
      "source": [
        "### some questions to consider:\n",
        "- how was this data obtained? what goes into engineering the features? what does \"quality\" mean?\n",
        "- This was part of the tensorflow prepared datasets that contsists of large amounts of data that we are trying to predict (quality) and large amounts of data that, hopefully, will let us predict that quantity. \n",
        "- do you have to normalize your features?\n",
        "- Yes, the features should normalized around the mean, then you can have a given sample with something like [+.2,-.5,+31] for its normalized result\n",
        "- are there any correlations among features? is this expected? how can we encode this information to the NN or decouple these features?\n",
        "- what does the data look like?\n",
        "- do we have any missing or NaN entries?"
      ]
    },
    {
      "cell_type": "markdown",
      "metadata": {
        "id": "EaLNDMRO0w4k"
      },
      "source": [
        "let's examine the data to see what kinds of transformations we need to make for preprocessing"
      ]
    },
    {
      "cell_type": "code",
      "metadata": {
        "colab": {
          "base_uri": "https://localhost:8080/",
          "height": 351
        },
        "id": "hyg1y6xj0w4k",
        "outputId": "abeb647c-7029-4f27-aa7f-a5f12af0c4ca"
      },
      "source": [
        "df.describe()"
      ],
      "execution_count": null,
      "outputs": [
        {
          "output_type": "execute_result",
          "data": {
            "text/html": [
              "<div>\n",
              "<style scoped>\n",
              "    .dataframe tbody tr th:only-of-type {\n",
              "        vertical-align: middle;\n",
              "    }\n",
              "\n",
              "    .dataframe tbody tr th {\n",
              "        vertical-align: top;\n",
              "    }\n",
              "\n",
              "    .dataframe thead th {\n",
              "        text-align: right;\n",
              "    }\n",
              "</style>\n",
              "<table border=\"1\" class=\"dataframe\">\n",
              "  <thead>\n",
              "    <tr style=\"text-align: right;\">\n",
              "      <th></th>\n",
              "      <th>features/alcohol</th>\n",
              "      <th>features/chlorides</th>\n",
              "      <th>features/citric acid</th>\n",
              "      <th>features/density</th>\n",
              "      <th>features/fixed acidity</th>\n",
              "      <th>features/free sulfur dioxide</th>\n",
              "      <th>features/pH</th>\n",
              "      <th>features/residual sugar</th>\n",
              "      <th>features/sulphates</th>\n",
              "      <th>features/total sulfur dioxide</th>\n",
              "      <th>features/volatile acidity</th>\n",
              "    </tr>\n",
              "  </thead>\n",
              "  <tbody>\n",
              "    <tr>\n",
              "      <th>count</th>\n",
              "      <td>5847.000000</td>\n",
              "      <td>5847.000000</td>\n",
              "      <td>5847.000000</td>\n",
              "      <td>5847.000000</td>\n",
              "      <td>5847.000000</td>\n",
              "      <td>5847.000000</td>\n",
              "      <td>5847.000000</td>\n",
              "      <td>5847.000000</td>\n",
              "      <td>5847.000000</td>\n",
              "      <td>5847.000000</td>\n",
              "      <td>5847.000000</td>\n",
              "    </tr>\n",
              "    <tr>\n",
              "      <th>mean</th>\n",
              "      <td>10.498395</td>\n",
              "      <td>0.056051</td>\n",
              "      <td>0.317200</td>\n",
              "      <td>0.994685</td>\n",
              "      <td>7.214418</td>\n",
              "      <td>30.469215</td>\n",
              "      <td>3.219114</td>\n",
              "      <td>5.433111</td>\n",
              "      <td>0.531036</td>\n",
              "      <td>115.558321</td>\n",
              "      <td>0.339820</td>\n",
              "    </tr>\n",
              "    <tr>\n",
              "      <th>std</th>\n",
              "      <td>1.196456</td>\n",
              "      <td>0.034763</td>\n",
              "      <td>0.144295</td>\n",
              "      <td>0.003010</td>\n",
              "      <td>1.294181</td>\n",
              "      <td>17.760557</td>\n",
              "      <td>0.160884</td>\n",
              "      <td>4.762535</td>\n",
              "      <td>0.148708</td>\n",
              "      <td>56.495487</td>\n",
              "      <td>0.165221</td>\n",
              "    </tr>\n",
              "    <tr>\n",
              "      <th>min</th>\n",
              "      <td>8.000000</td>\n",
              "      <td>0.009000</td>\n",
              "      <td>0.000000</td>\n",
              "      <td>0.987110</td>\n",
              "      <td>3.800000</td>\n",
              "      <td>1.000000</td>\n",
              "      <td>2.720000</td>\n",
              "      <td>0.600000</td>\n",
              "      <td>0.220000</td>\n",
              "      <td>6.000000</td>\n",
              "      <td>0.080000</td>\n",
              "    </tr>\n",
              "    <tr>\n",
              "      <th>25%</th>\n",
              "      <td>9.500000</td>\n",
              "      <td>0.038000</td>\n",
              "      <td>0.240000</td>\n",
              "      <td>0.992300</td>\n",
              "      <td>6.400000</td>\n",
              "      <td>17.000000</td>\n",
              "      <td>3.110000</td>\n",
              "      <td>1.800000</td>\n",
              "      <td>0.430000</td>\n",
              "      <td>77.000000</td>\n",
              "      <td>0.230000</td>\n",
              "    </tr>\n",
              "    <tr>\n",
              "      <th>50%</th>\n",
              "      <td>10.300000</td>\n",
              "      <td>0.047000</td>\n",
              "      <td>0.310000</td>\n",
              "      <td>0.994880</td>\n",
              "      <td>7.000000</td>\n",
              "      <td>29.000000</td>\n",
              "      <td>3.210000</td>\n",
              "      <td>3.000000</td>\n",
              "      <td>0.510000</td>\n",
              "      <td>118.000000</td>\n",
              "      <td>0.290000</td>\n",
              "    </tr>\n",
              "    <tr>\n",
              "      <th>75%</th>\n",
              "      <td>11.300000</td>\n",
              "      <td>0.064500</td>\n",
              "      <td>0.390000</td>\n",
              "      <td>0.996945</td>\n",
              "      <td>7.700000</td>\n",
              "      <td>41.000000</td>\n",
              "      <td>3.320000</td>\n",
              "      <td>8.100000</td>\n",
              "      <td>0.600000</td>\n",
              "      <td>155.000000</td>\n",
              "      <td>0.410000</td>\n",
              "    </tr>\n",
              "    <tr>\n",
              "      <th>max</th>\n",
              "      <td>14.900000</td>\n",
              "      <td>0.611000</td>\n",
              "      <td>1.660000</td>\n",
              "      <td>1.038980</td>\n",
              "      <td>15.900000</td>\n",
              "      <td>289.000000</td>\n",
              "      <td>4.010000</td>\n",
              "      <td>65.800003</td>\n",
              "      <td>1.980000</td>\n",
              "      <td>440.000000</td>\n",
              "      <td>1.580000</td>\n",
              "    </tr>\n",
              "  </tbody>\n",
              "</table>\n",
              "</div>"
            ],
            "text/plain": [
              "       features/alcohol  ...  features/volatile acidity\n",
              "count       5847.000000  ...                5847.000000\n",
              "mean          10.498395  ...                   0.339820\n",
              "std            1.196456  ...                   0.165221\n",
              "min            8.000000  ...                   0.080000\n",
              "25%            9.500000  ...                   0.230000\n",
              "50%           10.300000  ...                   0.290000\n",
              "75%           11.300000  ...                   0.410000\n",
              "max           14.900000  ...                   1.580000\n",
              "\n",
              "[8 rows x 11 columns]"
            ]
          },
          "metadata": {
            "tags": []
          },
          "execution_count": 7
        }
      ]
    },
    {
      "cell_type": "markdown",
      "metadata": {
        "id": "0NqgtB0g0w4l"
      },
      "source": [
        "### Visualizing data\n",
        "If you want a cool and easy way to visualize not only the features, but also the correlations between features, you can use the following seaborn function, which will display the individual features on the diagonal of the subplots and the correlations between features\n",
        "\n",
        "`pl = sns.pairplot(df[df.columns], diag_kind='kde')`"
      ]
    },
    {
      "cell_type": "code",
      "metadata": {
        "colab": {
          "base_uri": "https://localhost:8080/",
          "height": 1000
        },
        "id": "eohbT36q0w4l",
        "outputId": "e3c95b9b-a0c5-4e8d-bdad-9428aea8685b"
      },
      "source": [
        "#visualizing our input features\n",
        "nFeatures = len(df.columns)\n",
        "nCols = 3\n",
        "nRows = int(np.ceil(nFeatures/nCols))\n",
        "cols = df.columns\n",
        "fig, axs = plt.subplots(nRows,nCols,figsize=(15,20))\n",
        "# for i, ax in enumerate(axs)\n",
        "col = 0\n",
        "for i in range(nRows):\n",
        "    for j in range(nCols):\n",
        "        if col >= nFeatures:\n",
        "            break\n",
        "        h = axs[i,j].hist(df[cols[col]])\n",
        "        h = axs[i,j].set_title(cols[col])\n",
        "        col += 1"
      ],
      "execution_count": null,
      "outputs": [
        {
          "output_type": "display_data",
          "data": {
            "image/png": "[encoded data removed]",
            "text/plain": [
              "<Figure size 1080x1440 with 12 Axes>"
            ]
          },
          "metadata": {
            "tags": [],
            "needs_background": "light"
          }
        }
      ]
    },
    {
      "cell_type": "markdown",
      "metadata": {
        "id": "DsQah2NT0w4l"
      },
      "source": [
        "It looks like there are two types of sulfur dioxide features: total sulfur dioxide and free sulfur dioxide. I'm not entirely sure what sulfur dioxide is (I am neither a chemist nor a sommelier) so I'm curious if there is a correlation between these features. "
      ]
    },
    {
      "cell_type": "code",
      "metadata": {
        "id": "bHsfzreY0w4m",
        "colab": {
          "base_uri": "https://localhost:8080/",
          "height": 282
        },
        "outputId": "251a8c89-1655-469b-df17-256574bb402c"
      },
      "source": [
        "plt.scatter(df['features/free sulfur dioxide'],df['features/total sulfur dioxide'])"
      ],
      "execution_count": null,
      "outputs": [
        {
          "output_type": "execute_result",
          "data": {
            "text/plain": [
              "<matplotlib.collections.PathCollection at 0x7f5aa5d58c90>"
            ]
          },
          "metadata": {
            "tags": []
          },
          "execution_count": 9
        },
        {
          "output_type": "display_data",
          "data": {
            "image/png": "[encoded data removed]",
            "text/plain": [
              "<Figure size 432x288 with 1 Axes>"
            ]
          },
          "metadata": {
            "tags": [],
            "needs_background": "light"
          }
        }
      ]
    },
    {
      "cell_type": "markdown",
      "metadata": {
        "id": "z3pmqSQ-0w4m"
      },
      "source": [
        "It looks like there is some correlation between these features. If I had to guess, I would say \"free sulfur dioxide\" is a subset of \"total sulfur dioxide\" but I'm not sure how or even if either of these features would affect the wine quality. This is where domain specific knowledge would be helpful! Since I have a degree in physics and not wine studies (contrary to what my weekend activities may imply) I am going to see what happens when we include both of these features in our network."
      ]
    },
    {
      "cell_type": "markdown",
      "metadata": {
        "id": "UYU8jlwP0w4m"
      },
      "source": [
        "This was just a cursory look at our data. In reality, data scientists will spend most of their time feature engineering, fixing incomplete datasets, cleaning data, etc. Feel free to do more exploratory analysis on the data before you pass it through to a network!"
      ]
    },
    {
      "cell_type": "markdown",
      "metadata": {
        "id": "RFkEcxRG0w4m"
      },
      "source": [
        "## Let's build our network!\n",
        "We want to build a simple DNN to essentially perform a categorization. Let's start with something simple: only a couple hidden layers and a handful of neurons. Of course, in accordance with the Universal Approximation Theorem, any function can be approximated arbitrarily well with an arbitrarily large number of layers (Lu et. al. 2017) or arbitrarily large number of neurons (Cybenko 1989). Does the network perform better or worse with an increase in layers or neurons? \n",
        "#It depends. Adding more nuerons makes an epoch take longer but generally seems to make the accuracy go up more with each epoch. After trying it many times, quallitatively I'd say its best to have many layers of few neurons with 100 epochs, that seems to be the most effecient\n"
      ]
    },
    {
      "cell_type": "code",
      "metadata": {
        "colab": {
          "base_uri": "https://localhost:8080/",
          "height": 274
        },
        "id": "dzvYBAUx0w4m",
        "outputId": "52c419aa-731c-40e6-ac2b-66d4879e38a8"
      },
      "source": [
        "cols = df.columns\n",
        "nClasses = len(labels[0])\n",
        "\n",
        "#using Keras's Sequential model - https://keras.io/api/models/sequential/\n",
        "model = Sequential()\n",
        "#add input layer\n",
        "model.add(Input(shape=(len(cols),))) #the input layer shape should match the number of features we have\n",
        "#add first layer of fully connected neurons\n",
        "#model.add(Dense(64,activation='relu'))\n",
        "\n",
        "#add second layer (first hidden layer)\n",
        "model.add(Dense(30,activation='relu'))\n",
        "#model.add(Dense(64,activation='relu'))\n",
        "'''\n",
        "#and one more because why not\n",
        "model.add(Dense(64,activation='relu'))\n",
        "\n",
        "model.add(Dense(64,activation='relu'))\n",
        "model.add(Dense(64,activation='relu'))\n",
        "model.add(Dense(64,activation='relu'))\n",
        "model.add(Dense(64,activation='relu'))\n",
        "model.add(Dense(64,activation='relu'))\n",
        "model.add(Dense(64,activation='relu'))\n",
        "model.add(Dense(64,activation='relu'))\n",
        "model.add(Dense(64,activation='relu'))\n",
        "model.add(Dense(64,activation='relu'))\n",
        "'''\n",
        "#add some more\n",
        "'''\n",
        "model.add(Dense(64,activation='relu'))\n",
        "model.add(Dense(64,activation='relu'))\n",
        "model.add(Dense(264,activation='relu'))\n",
        "model.add(Dense(1000,activation='relu'))\n",
        "model.add(Dense(2000,activation='relu'))'''\n",
        "#finally, our output layer should have only one neuron because we are trying to predict only one number\n",
        "#notice how there is a different activation function in this layer\n",
        "#this is because we want our outputs for each class to be a probability\n",
        "model.add(Dense(nClasses,activation='softmax'))\n",
        "\n",
        "#compile our model - set our loss metric (categorical cross entropy) and optimizer (stochastic gradient descent)\n",
        "#how does the model performance change with different optimizers (ie AdaGrad, SGD, etc.)?\n",
        "model.compile(loss='CategoricalCrossentropy',optimizer='Adam',metrics=['accuracy'])\n",
        "\n",
        "#let's see a summary of our model\n",
        "model.summary()"
      ],
      "execution_count": null,
      "outputs": [
        {
          "output_type": "execute_result",
          "data": {
            "application/vnd.google.colaboratory.intrinsic+json": {
              "type": "string"
            },
            "text/plain": [
              "\"\\n#and one more because why not\\nmodel.add(Dense(64,activation='relu'))\\n\\nmodel.add(Dense(64,activation='relu'))\\nmodel.add(Dense(64,activation='relu'))\\nmodel.add(Dense(64,activation='relu'))\\nmodel.add(Dense(64,activation='relu'))\\nmodel.add(Dense(64,activation='relu'))\\nmodel.add(Dense(64,activation='relu'))\\nmodel.add(Dense(64,activation='relu'))\\nmodel.add(Dense(64,activation='relu'))\\nmodel.add(Dense(64,activation='relu'))\\n\""
            ]
          },
          "metadata": {
            "tags": []
          },
          "execution_count": 10
        },
        {
          "output_type": "execute_result",
          "data": {
            "application/vnd.google.colaboratory.intrinsic+json": {
              "type": "string"
            },
            "text/plain": [
              "\"\\nmodel.add(Dense(64,activation='relu'))\\nmodel.add(Dense(64,activation='relu'))\\nmodel.add(Dense(264,activation='relu'))\\nmodel.add(Dense(1000,activation='relu'))\\nmodel.add(Dense(2000,activation='relu'))\""
            ]
          },
          "metadata": {
            "tags": []
          },
          "execution_count": 10
        },
        {
          "output_type": "stream",
          "text": [
            "Model: \"sequential\"\n",
            "_________________________________________________________________\n",
            "Layer (type)                 Output Shape              Param #   \n",
            "=================================================================\n",
            "dense (Dense)                (None, 30)                360       \n",
            "_________________________________________________________________\n",
            "dense_1 (Dense)              (None, 7)                 217       \n",
            "=================================================================\n",
            "Total params: 577\n",
            "Trainable params: 577\n",
            "Non-trainable params: 0\n",
            "_________________________________________________________________\n"
          ],
          "name": "stdout"
        }
      ]
    },
    {
      "cell_type": "markdown",
      "metadata": {
        "id": "ngqRproB0w4n"
      },
      "source": [
        "As shown above, we have a network with four layers, 128 neurons/layer, for a total of ~50k trainable parameters (remember: parameters are the biases and weights that the network learns). Imagine how many parameters a large, complex network at Google has!"
      ]
    },
    {
      "cell_type": "markdown",
      "metadata": {
        "id": "87W1WbpM0w4n"
      },
      "source": [
        "### the same model can be built using the generic Model class and slightly different syntax\n",
        "`\n",
        "inputs = tf.keras.Input(shape=(len(cols),))\n",
        "outputs_L1 = Dense(64, activation='relu')(inputs)\n",
        "outputs_L2 = Dense(64, activation='relu')(outputs_L1)\n",
        "outputs_L3 = Dense(64, activation='relu')(outputs_L2)\n",
        "pred = Dense(1)(outputs_L3)\n",
        "model = Model(inputs=inputs,outputs=pred)\n",
        "`"
      ]
    },
    {
      "cell_type": "markdown",
      "metadata": {
        "id": "50qgTLvJ0w4n"
      },
      "source": [
        "### Training our model\n",
        "\n",
        "Let's give our model all the input features (df), the corresponding labels (labels)\n",
        "\n",
        "There is a 20% validation split, which means that 80% of our data will be used to train the model parameters\n",
        "while 20% of it will be saved to \"check\" our answers. This is data that the model has not seen (been trained on) so the performance on the validation data should give us an idea of if the model is over- or underfitting.\n",
        "\n",
        "We will train for 100 epochs, which means that the entire dataset will be passed through the whole network 100 times. Our batch size is 20, meaning that 20 samples at a time are passed to the network before the parameters are updated. The `shuffle` argument ensures that our data is shuffled before the beginning of each epoch to reduce spurious learned correlations. What happens if you let the model run for more epochs?\n",
        "\n",
        "#Allowing it to run for 1000 epochs gave an average accuracy of about 70 percent near the end, capping at 76%, and it only seemed to increase with more epochs. Increasing the validation split and reducing the number of layers gives poor results (~70) even after allowing it to run for 5000 epochs, so I am to believe that more neurons will be more effecient unless you want the program to run for a really long time.\n",
        "\n"
      ]
    },
    {
      "cell_type": "code",
      "metadata": {
        "colab": {
          "base_uri": "https://localhost:8080/"
        },
        "id": "zdENcn1x0w4n",
        "outputId": "2458b350-91a8-4984-bf22-6a55bf5f2d3e"
      },
      "source": [
        "history = model.fit(\n",
        "    df, labels,\n",
        "    validation_split=0.01,\n",
        "    verbose=1, epochs=100, batch_size=50, shuffle=True)"
      ],
      "execution_count": null,
      "outputs": [
        {
          "output_type": "stream",
          "text": [
            "Epoch 1/100\n",
            "116/116 [==============================] - 0s 3ms/step - loss: 1.0946 - accuracy: 0.5275 - val_loss: 0.9646 - val_accuracy: 0.5763\n",
            "Epoch 2/100\n",
            "116/116 [==============================] - 0s 3ms/step - loss: 1.0856 - accuracy: 0.5299 - val_loss: 0.9591 - val_accuracy: 0.5763\n",
            "Epoch 3/100\n",
            "116/116 [==============================] - 0s 2ms/step - loss: 1.0836 - accuracy: 0.5294 - val_loss: 0.9724 - val_accuracy: 0.5932\n",
            "Epoch 4/100\n",
            "116/116 [==============================] - 0s 2ms/step - loss: 1.0847 - accuracy: 0.5321 - val_loss: 0.9585 - val_accuracy: 0.5763\n",
            "Epoch 5/100\n",
            "116/116 [==============================] - 0s 2ms/step - loss: 1.0847 - accuracy: 0.5311 - val_loss: 0.9537 - val_accuracy: 0.5932\n",
            "Epoch 6/100\n",
            "116/116 [==============================] - 0s 2ms/step - loss: 1.0840 - accuracy: 0.5333 - val_loss: 0.9657 - val_accuracy: 0.5763\n",
            "Epoch 7/100\n",
            "116/116 [==============================] - 0s 2ms/step - loss: 1.0842 - accuracy: 0.5289 - val_loss: 0.9627 - val_accuracy: 0.6102\n",
            "Epoch 8/100\n",
            "116/116 [==============================] - 0s 3ms/step - loss: 1.0834 - accuracy: 0.5332 - val_loss: 0.9578 - val_accuracy: 0.5593\n",
            "Epoch 9/100\n",
            "116/116 [==============================] - 0s 2ms/step - loss: 1.0818 - accuracy: 0.5313 - val_loss: 0.9651 - val_accuracy: 0.5593\n",
            "Epoch 10/100\n",
            "116/116 [==============================] - 0s 2ms/step - loss: 1.0862 - accuracy: 0.5294 - val_loss: 0.9547 - val_accuracy: 0.5932\n",
            "Epoch 11/100\n",
            "116/116 [==============================] - 0s 2ms/step - loss: 1.0887 - accuracy: 0.5223 - val_loss: 0.9576 - val_accuracy: 0.5932\n",
            "Epoch 12/100\n",
            "116/116 [==============================] - 0s 2ms/step - loss: 1.0818 - accuracy: 0.5344 - val_loss: 0.9633 - val_accuracy: 0.5763\n",
            "Epoch 13/100\n",
            "116/116 [==============================] - 0s 2ms/step - loss: 1.0838 - accuracy: 0.5323 - val_loss: 0.9549 - val_accuracy: 0.5593\n",
            "Epoch 14/100\n",
            "116/116 [==============================] - 0s 2ms/step - loss: 1.0824 - accuracy: 0.5318 - val_loss: 0.9560 - val_accuracy: 0.5763\n",
            "Epoch 15/100\n",
            "116/116 [==============================] - 0s 3ms/step - loss: 1.0832 - accuracy: 0.5320 - val_loss: 0.9524 - val_accuracy: 0.5763\n",
            "Epoch 16/100\n",
            "116/116 [==============================] - 0s 2ms/step - loss: 1.0842 - accuracy: 0.5263 - val_loss: 0.9460 - val_accuracy: 0.5763\n",
            "Epoch 17/100\n",
            "116/116 [==============================] - 0s 2ms/step - loss: 1.0826 - accuracy: 0.5290 - val_loss: 0.9825 - val_accuracy: 0.5763\n",
            "Epoch 18/100\n",
            "116/116 [==============================] - 0s 3ms/step - loss: 1.0862 - accuracy: 0.5318 - val_loss: 0.9519 - val_accuracy: 0.5932\n",
            "Epoch 19/100\n",
            "116/116 [==============================] - 0s 2ms/step - loss: 1.0836 - accuracy: 0.5280 - val_loss: 0.9624 - val_accuracy: 0.5763\n",
            "Epoch 20/100\n",
            "116/116 [==============================] - 0s 2ms/step - loss: 1.0808 - accuracy: 0.5378 - val_loss: 0.9770 - val_accuracy: 0.5763\n",
            "Epoch 21/100\n",
            "116/116 [==============================] - 0s 2ms/step - loss: 1.0843 - accuracy: 0.5330 - val_loss: 0.9416 - val_accuracy: 0.5932\n",
            "Epoch 22/100\n",
            "116/116 [==============================] - 0s 3ms/step - loss: 1.0811 - accuracy: 0.5385 - val_loss: 0.9469 - val_accuracy: 0.5932\n",
            "Epoch 23/100\n",
            "116/116 [==============================] - 0s 2ms/step - loss: 1.0791 - accuracy: 0.5313 - val_loss: 0.9588 - val_accuracy: 0.5763\n",
            "Epoch 24/100\n",
            "116/116 [==============================] - 0s 2ms/step - loss: 1.0852 - accuracy: 0.5333 - val_loss: 0.9473 - val_accuracy: 0.5763\n",
            "Epoch 25/100\n",
            "116/116 [==============================] - 0s 2ms/step - loss: 1.0827 - accuracy: 0.5356 - val_loss: 0.9928 - val_accuracy: 0.5593\n",
            "Epoch 26/100\n",
            "116/116 [==============================] - 0s 2ms/step - loss: 1.0820 - accuracy: 0.5335 - val_loss: 0.9780 - val_accuracy: 0.5424\n",
            "Epoch 27/100\n",
            "116/116 [==============================] - 0s 2ms/step - loss: 1.0801 - accuracy: 0.5320 - val_loss: 0.9763 - val_accuracy: 0.5424\n",
            "Epoch 28/100\n",
            "116/116 [==============================] - 0s 3ms/step - loss: 1.0804 - accuracy: 0.5356 - val_loss: 0.9377 - val_accuracy: 0.6102\n",
            "Epoch 29/100\n",
            "116/116 [==============================] - 0s 2ms/step - loss: 1.0803 - accuracy: 0.5342 - val_loss: 0.9326 - val_accuracy: 0.6102\n",
            "Epoch 30/100\n",
            "116/116 [==============================] - 0s 2ms/step - loss: 1.0781 - accuracy: 0.5340 - val_loss: 0.9356 - val_accuracy: 0.6102\n",
            "Epoch 31/100\n",
            "116/116 [==============================] - 0s 2ms/step - loss: 1.0844 - accuracy: 0.5264 - val_loss: 0.9460 - val_accuracy: 0.6102\n",
            "Epoch 32/100\n",
            "116/116 [==============================] - 0s 2ms/step - loss: 1.0807 - accuracy: 0.5304 - val_loss: 0.9258 - val_accuracy: 0.5932\n",
            "Epoch 33/100\n",
            "116/116 [==============================] - 0s 2ms/step - loss: 1.0773 - accuracy: 0.5323 - val_loss: 0.9503 - val_accuracy: 0.5932\n",
            "Epoch 34/100\n",
            "116/116 [==============================] - 0s 2ms/step - loss: 1.0755 - accuracy: 0.5373 - val_loss: 0.9478 - val_accuracy: 0.6102\n",
            "Epoch 35/100\n",
            "116/116 [==============================] - 0s 2ms/step - loss: 1.0844 - accuracy: 0.5325 - val_loss: 0.9524 - val_accuracy: 0.5763\n",
            "Epoch 36/100\n",
            "116/116 [==============================] - 0s 2ms/step - loss: 1.0811 - accuracy: 0.5292 - val_loss: 0.9245 - val_accuracy: 0.6271\n",
            "Epoch 37/100\n",
            "116/116 [==============================] - 0s 2ms/step - loss: 1.0782 - accuracy: 0.5308 - val_loss: 0.9489 - val_accuracy: 0.5763\n",
            "Epoch 38/100\n",
            "116/116 [==============================] - 0s 2ms/step - loss: 1.0769 - accuracy: 0.5396 - val_loss: 0.9388 - val_accuracy: 0.6271\n",
            "Epoch 39/100\n",
            "116/116 [==============================] - 0s 2ms/step - loss: 1.0765 - accuracy: 0.5264 - val_loss: 0.9265 - val_accuracy: 0.6271\n",
            "Epoch 40/100\n",
            "116/116 [==============================] - 0s 2ms/step - loss: 1.0783 - accuracy: 0.5314 - val_loss: 0.9854 - val_accuracy: 0.5763\n",
            "Epoch 41/100\n",
            "116/116 [==============================] - 0s 2ms/step - loss: 1.0796 - accuracy: 0.5301 - val_loss: 0.9574 - val_accuracy: 0.5932\n",
            "Epoch 42/100\n",
            "116/116 [==============================] - 0s 2ms/step - loss: 1.0781 - accuracy: 0.5401 - val_loss: 0.9455 - val_accuracy: 0.5763\n",
            "Epoch 43/100\n",
            "116/116 [==============================] - 0s 3ms/step - loss: 1.0786 - accuracy: 0.5337 - val_loss: 0.9751 - val_accuracy: 0.6271\n",
            "Epoch 44/100\n",
            "116/116 [==============================] - 0s 2ms/step - loss: 1.0805 - accuracy: 0.5313 - val_loss: 0.9698 - val_accuracy: 0.5763\n",
            "Epoch 45/100\n",
            "116/116 [==============================] - 0s 2ms/step - loss: 1.0798 - accuracy: 0.5280 - val_loss: 0.9528 - val_accuracy: 0.6271\n",
            "Epoch 46/100\n",
            "116/116 [==============================] - 0s 2ms/step - loss: 1.0764 - accuracy: 0.5321 - val_loss: 0.9333 - val_accuracy: 0.6441\n",
            "Epoch 47/100\n",
            "116/116 [==============================] - 0s 2ms/step - loss: 1.0770 - accuracy: 0.5313 - val_loss: 0.9395 - val_accuracy: 0.5593\n",
            "Epoch 48/100\n",
            "116/116 [==============================] - 0s 2ms/step - loss: 1.0809 - accuracy: 0.5323 - val_loss: 0.9408 - val_accuracy: 0.5932\n",
            "Epoch 49/100\n",
            "116/116 [==============================] - 0s 2ms/step - loss: 1.0765 - accuracy: 0.5285 - val_loss: 0.9438 - val_accuracy: 0.6102\n",
            "Epoch 50/100\n",
            "116/116 [==============================] - 0s 2ms/step - loss: 1.0779 - accuracy: 0.5351 - val_loss: 0.9342 - val_accuracy: 0.6102\n",
            "Epoch 51/100\n",
            "116/116 [==============================] - 0s 2ms/step - loss: 1.0764 - accuracy: 0.5337 - val_loss: 0.9514 - val_accuracy: 0.6271\n",
            "Epoch 52/100\n",
            "116/116 [==============================] - 0s 2ms/step - loss: 1.0754 - accuracy: 0.5354 - val_loss: 0.9396 - val_accuracy: 0.5763\n",
            "Epoch 53/100\n",
            "116/116 [==============================] - 0s 2ms/step - loss: 1.0770 - accuracy: 0.5309 - val_loss: 0.9260 - val_accuracy: 0.6102\n",
            "Epoch 54/100\n",
            "116/116 [==============================] - 0s 3ms/step - loss: 1.0754 - accuracy: 0.5304 - val_loss: 0.9368 - val_accuracy: 0.5932\n",
            "Epoch 55/100\n",
            "116/116 [==============================] - 0s 2ms/step - loss: 1.0732 - accuracy: 0.5387 - val_loss: 0.9125 - val_accuracy: 0.6441\n",
            "Epoch 56/100\n",
            "116/116 [==============================] - 0s 2ms/step - loss: 1.0718 - accuracy: 0.5332 - val_loss: 0.9481 - val_accuracy: 0.5932\n",
            "Epoch 57/100\n",
            "116/116 [==============================] - 0s 2ms/step - loss: 1.0732 - accuracy: 0.5314 - val_loss: 0.9422 - val_accuracy: 0.6271\n",
            "Epoch 58/100\n",
            "116/116 [==============================] - 0s 3ms/step - loss: 1.0693 - accuracy: 0.5432 - val_loss: 0.9287 - val_accuracy: 0.5932\n",
            "Epoch 59/100\n",
            "116/116 [==============================] - 0s 2ms/step - loss: 1.0738 - accuracy: 0.5361 - val_loss: 0.9336 - val_accuracy: 0.5593\n",
            "Epoch 60/100\n",
            "116/116 [==============================] - 0s 2ms/step - loss: 1.0737 - accuracy: 0.5365 - val_loss: 0.9314 - val_accuracy: 0.6271\n",
            "Epoch 61/100\n",
            "116/116 [==============================] - 0s 2ms/step - loss: 1.0727 - accuracy: 0.5301 - val_loss: 0.9435 - val_accuracy: 0.6271\n",
            "Epoch 62/100\n",
            "116/116 [==============================] - 0s 2ms/step - loss: 1.0711 - accuracy: 0.5335 - val_loss: 0.9437 - val_accuracy: 0.6102\n",
            "Epoch 63/100\n",
            "116/116 [==============================] - 0s 2ms/step - loss: 1.0760 - accuracy: 0.5342 - val_loss: 0.9239 - val_accuracy: 0.6441\n",
            "Epoch 64/100\n",
            "116/116 [==============================] - 0s 2ms/step - loss: 1.0692 - accuracy: 0.5422 - val_loss: 0.9541 - val_accuracy: 0.5763\n",
            "Epoch 65/100\n",
            "116/116 [==============================] - 0s 2ms/step - loss: 1.0714 - accuracy: 0.5409 - val_loss: 0.9197 - val_accuracy: 0.6271\n",
            "Epoch 66/100\n",
            "116/116 [==============================] - 0s 2ms/step - loss: 1.0751 - accuracy: 0.5375 - val_loss: 0.9299 - val_accuracy: 0.6271\n",
            "Epoch 67/100\n",
            "116/116 [==============================] - 0s 2ms/step - loss: 1.0770 - accuracy: 0.5327 - val_loss: 0.9498 - val_accuracy: 0.6102\n",
            "Epoch 68/100\n",
            "116/116 [==============================] - 0s 2ms/step - loss: 1.0721 - accuracy: 0.5354 - val_loss: 0.9407 - val_accuracy: 0.6102\n",
            "Epoch 69/100\n",
            "116/116 [==============================] - 0s 2ms/step - loss: 1.0706 - accuracy: 0.5420 - val_loss: 0.9084 - val_accuracy: 0.6441\n",
            "Epoch 70/100\n",
            "116/116 [==============================] - 0s 2ms/step - loss: 1.0677 - accuracy: 0.5389 - val_loss: 0.9169 - val_accuracy: 0.6102\n",
            "Epoch 71/100\n",
            "116/116 [==============================] - 0s 2ms/step - loss: 1.0720 - accuracy: 0.5316 - val_loss: 0.9123 - val_accuracy: 0.5763\n",
            "Epoch 72/100\n",
            "116/116 [==============================] - 0s 3ms/step - loss: 1.0760 - accuracy: 0.5306 - val_loss: 0.9218 - val_accuracy: 0.6271\n",
            "Epoch 73/100\n",
            "116/116 [==============================] - 0s 2ms/step - loss: 1.0714 - accuracy: 0.5371 - val_loss: 0.9333 - val_accuracy: 0.6441\n",
            "Epoch 74/100\n",
            "116/116 [==============================] - 0s 2ms/step - loss: 1.0687 - accuracy: 0.5394 - val_loss: 0.9228 - val_accuracy: 0.6102\n",
            "Epoch 75/100\n",
            "116/116 [==============================] - 0s 2ms/step - loss: 1.0687 - accuracy: 0.5399 - val_loss: 0.9390 - val_accuracy: 0.6271\n",
            "Epoch 76/100\n",
            "116/116 [==============================] - 0s 2ms/step - loss: 1.0677 - accuracy: 0.5413 - val_loss: 0.9040 - val_accuracy: 0.6271\n",
            "Epoch 77/100\n",
            "116/116 [==============================] - 0s 2ms/step - loss: 1.0754 - accuracy: 0.5301 - val_loss: 0.9192 - val_accuracy: 0.5932\n",
            "Epoch 78/100\n",
            "116/116 [==============================] - 0s 2ms/step - loss: 1.0655 - accuracy: 0.5430 - val_loss: 0.9114 - val_accuracy: 0.5932\n",
            "Epoch 79/100\n",
            "116/116 [==============================] - 0s 3ms/step - loss: 1.0692 - accuracy: 0.5278 - val_loss: 0.9557 - val_accuracy: 0.5763\n",
            "Epoch 80/100\n",
            "116/116 [==============================] - 0s 2ms/step - loss: 1.0755 - accuracy: 0.5352 - val_loss: 0.9387 - val_accuracy: 0.5932\n",
            "Epoch 81/100\n",
            "116/116 [==============================] - 0s 2ms/step - loss: 1.0709 - accuracy: 0.5390 - val_loss: 0.9375 - val_accuracy: 0.5932\n",
            "Epoch 82/100\n",
            "116/116 [==============================] - 0s 3ms/step - loss: 1.0722 - accuracy: 0.5354 - val_loss: 0.9331 - val_accuracy: 0.5763\n",
            "Epoch 83/100\n",
            "116/116 [==============================] - 0s 2ms/step - loss: 1.0744 - accuracy: 0.5358 - val_loss: 0.9151 - val_accuracy: 0.6271\n",
            "Epoch 84/100\n",
            "116/116 [==============================] - 0s 2ms/step - loss: 1.0642 - accuracy: 0.5366 - val_loss: 0.9348 - val_accuracy: 0.5932\n",
            "Epoch 85/100\n",
            "116/116 [==============================] - 0s 2ms/step - loss: 1.0645 - accuracy: 0.5413 - val_loss: 0.9232 - val_accuracy: 0.6271\n",
            "Epoch 86/100\n",
            "116/116 [==============================] - 0s 2ms/step - loss: 1.0644 - accuracy: 0.5430 - val_loss: 0.9034 - val_accuracy: 0.6271\n",
            "Epoch 87/100\n",
            "116/116 [==============================] - 0s 2ms/step - loss: 1.0641 - accuracy: 0.5456 - val_loss: 0.9261 - val_accuracy: 0.6271\n",
            "Epoch 88/100\n",
            "116/116 [==============================] - 0s 2ms/step - loss: 1.0643 - accuracy: 0.5404 - val_loss: 0.9184 - val_accuracy: 0.5932\n",
            "Epoch 89/100\n",
            "116/116 [==============================] - 0s 3ms/step - loss: 1.0652 - accuracy: 0.5396 - val_loss: 0.9290 - val_accuracy: 0.6102\n",
            "Epoch 90/100\n",
            "116/116 [==============================] - 0s 2ms/step - loss: 1.0710 - accuracy: 0.5456 - val_loss: 0.9321 - val_accuracy: 0.6102\n",
            "Epoch 91/100\n",
            "116/116 [==============================] - 0s 2ms/step - loss: 1.0660 - accuracy: 0.5380 - val_loss: 0.9157 - val_accuracy: 0.5932\n",
            "Epoch 92/100\n",
            "116/116 [==============================] - 0s 2ms/step - loss: 1.0601 - accuracy: 0.5473 - val_loss: 0.9228 - val_accuracy: 0.5763\n",
            "Epoch 93/100\n",
            "116/116 [==============================] - 0s 2ms/step - loss: 1.0626 - accuracy: 0.5487 - val_loss: 0.9278 - val_accuracy: 0.6102\n",
            "Epoch 94/100\n",
            "116/116 [==============================] - 0s 2ms/step - loss: 1.0644 - accuracy: 0.5432 - val_loss: 0.9220 - val_accuracy: 0.5932\n",
            "Epoch 95/100\n",
            "116/116 [==============================] - 0s 2ms/step - loss: 1.0629 - accuracy: 0.5439 - val_loss: 0.9477 - val_accuracy: 0.5763\n",
            "Epoch 96/100\n",
            "116/116 [==============================] - 0s 2ms/step - loss: 1.0697 - accuracy: 0.5354 - val_loss: 0.9214 - val_accuracy: 0.6441\n",
            "Epoch 97/100\n",
            "116/116 [==============================] - 0s 2ms/step - loss: 1.0651 - accuracy: 0.5384 - val_loss: 0.8976 - val_accuracy: 0.6271\n",
            "Epoch 98/100\n",
            "116/116 [==============================] - 0s 2ms/step - loss: 1.0650 - accuracy: 0.5425 - val_loss: 0.9173 - val_accuracy: 0.6271\n",
            "Epoch 99/100\n",
            "116/116 [==============================] - 0s 2ms/step - loss: 1.0658 - accuracy: 0.5396 - val_loss: 0.9114 - val_accuracy: 0.6102\n",
            "Epoch 100/100\n",
            "116/116 [==============================] - 0s 2ms/step - loss: 1.0611 - accuracy: 0.5444 - val_loss: 0.9431 - val_accuracy: 0.5932\n"
          ],
          "name": "stdout"
        }
      ]
    },
    {
      "cell_type": "markdown",
      "metadata": {
        "id": "eQuml31G0w4o"
      },
      "source": [
        "Let's define a function to visualize our loss"
      ]
    },
    {
      "cell_type": "code",
      "metadata": {
        "colab": {
          "base_uri": "https://localhost:8080/",
          "height": 279
        },
        "id": "2zcUj-KA0w4o",
        "outputId": "0f46d5c5-a980-4b76-864a-f6286c489dda"
      },
      "source": [
        "def show_loss(history):\n",
        "    plt.figure()\n",
        "    plt.plot(history.history['val_loss'], label=\"val loss\")\n",
        "    plt.plot(history.history['loss'],label=\"train loss\")\n",
        "    plt.xlabel(\"Epoch\")\n",
        "    plt.ylabel(\"Loss\")\n",
        "    plt.legend()\n",
        "show_loss(history)"
      ],
      "execution_count": null,
      "outputs": [
        {
          "output_type": "display_data",
          "data": {
            "image/png": "[encoded data removed]",
            "text/plain": [
              "<Figure size 432x288 with 1 Axes>"
            ]
          },
          "metadata": {
            "tags": [],
            "needs_background": "light"
          }
        }
      ]
    },
    {
      "cell_type": "markdown",
      "metadata": {
        "id": "0lWzvVhT0w4o"
      },
      "source": [
        "It looks like our training loss is more or less monotonically minimized with each epoch (with some fluctuations) while the validation loss seems to be on average higher. The validation loss spikes more severely than the training loss, which is probably due to limited statistics (we only had ~6k samples and took onlt 20% of them for validation - it usually takes LOTS of data to train neural networks well!). The trend discrepancy between training and validation losses could indicate some overfitting in our model. What happens if you increase the percentage of data used for validation? Since it's pretty apparent we're overfitting to our training data, we could introduce some sort of regularization techniques, like L2 regularization (that penalizes large weights) or dropout (that randomly drops neurons in a layer with a set probability). What happens if you introduce some of these methods?"
      ]
    },
    {
      "cell_type": "markdown",
      "metadata": {
        "id": "8175h0eJ0w4o"
      },
      "source": [
        "### Remember that test data we set aside at the beginning?\n",
        "Now it's time to use it to evaluate our model performance!"
      ]
    },
    {
      "cell_type": "code",
      "metadata": {
        "scrolled": true,
        "colab": {
          "base_uri": "https://localhost:8080/"
        },
        "id": "hfUdDkD60w4o",
        "outputId": "f608f29a-424b-4bb3-eede-887d03af0bdd"
      },
      "source": [
        "_, acc = model.evaluate(df_test, df_testLabels, verbose=1)\n",
        "print('Accuracy for test data is',acc)"
      ],
      "execution_count": null,
      "outputs": [
        {
          "output_type": "stream",
          "text": [
            "21/21 [==============================] - 0s 2ms/step - loss: 1.0635 - accuracy: 0.5154\n",
            "Accuracy for test data is 0.5153846144676208\n"
          ],
          "name": "stdout"
        }
      ]
    },
    {
      "cell_type": "markdown",
      "metadata": {
        "id": "ly7UctbY0w4p"
      },
      "source": [
        "To plot our results, I just chose the highest probability of the classes and assigned the prediction to a class based on that rounding (highest probability gets a 1, every other class gets a 0). Then, I one-hot decoded the rounded array to get a single number for the class. "
      ]
    },
    {
      "cell_type": "code",
      "metadata": {
        "colab": {
          "base_uri": "https://localhost:8080/",
          "height": 295
        },
        "id": "_JF5bw0H0w4p",
        "outputId": "b0cbf5e1-01cf-4923-d862-52d893f4e10a"
      },
      "source": [
        "preds = model.predict(df_test)\n",
        "preds = [i.round() for i in preds]\n",
        "\n",
        "preds = enc.inverse_transform(preds)\n",
        "testLabels = enc.inverse_transform(df_testLabels)\n",
        "cm = confusion_matrix(testLabels, preds)\n",
        "\n",
        "_ =plt.imshow(cm, cmap=plt.cm.Blues)\n",
        "_ = plt.xlabel(\"Predicted labels\")\n",
        "_ = plt.ylabel(\"True labels\")\n",
        "\n",
        "_ =plt.xticks(np.arange(0,len(np.unique(testLabels)),1),np.unique(testLabels))\n",
        "_ =plt.yticks(np.arange(0,len(np.unique(testLabels)),1),np.unique(testLabels))\n",
        "_ =plt.title('Confusion matrix ')\n",
        "_ =plt.colorbar()\n",
        "plt.show()"
      ],
      "execution_count": null,
      "outputs": [
        {
          "output_type": "display_data",
          "data": {
            "image/png": "[encoded data removed]",
            "text/plain": [
              "<Figure size 432x288 with 2 Axes>"
            ]
          },
          "metadata": {
            "tags": [],
            "needs_background": "light"
          }
        }
      ]
    },
    {
      "cell_type": "markdown",
      "metadata": {
        "id": "3f-ho_ry0w4p"
      },
      "source": [
        "It looks like our network is only predicting *some* of our classes. Maybe that's because really good wine (rated 8 and 9) is pretty rare? Let's check it out."
      ]
    },
    {
      "cell_type": "code",
      "metadata": {
        "colab": {
          "base_uri": "https://localhost:8080/",
          "height": 265
        },
        "id": "BHIASSs20w4p",
        "outputId": "2695e713-e52c-4f94-b247-281a865da8d0"
      },
      "source": [
        "_=plt.hist(enc.inverse_transform(labels),label='training labels')\n",
        "_=plt.hist(testLabels,label='test labels')\n",
        "_=plt.yscale('log')\n",
        "_=plt.legend()"
      ],
      "execution_count": null,
      "outputs": [
        {
          "output_type": "display_data",
          "data": {
            "image/png": "[encoded data removed]",
            "text/plain": [
              "<Figure size 432x288 with 1 Axes>"
            ]
          },
          "metadata": {
            "tags": [],
            "needs_background": "light"
          }
        }
      ]
    },
    {
      "cell_type": "markdown",
      "metadata": {
        "id": "UpDnyEyQ0w4p"
      },
      "source": [
        "Yep! Mostly 5s, 6s, and 7s. Only a handful of really good wines (8s and 9s) and really bad wines (3s and 4s). In fact, no scores below a 3! But no perfect 10s either. Overall, I would say that the dataset is imbalanced (mostly ok wines, some bad and some good - a pretty Gaussian distribution) and could benefit from data augmentation techniques like bootstrapping! Maybe you could even generate some more data from randomly sampling a known distribution...But if you train your model on mostly ok wines, then it learns the characteristics of those wines really well. So, when it's faced with a good or bad wine, it's not as sure how to classify it. You can see if this is happening by looking at the network output, which are the probabilities for each class (ie how sure the network is this sample belongs to a certain class)."
      ]
    },
    {
      "cell_type": "markdown",
      "metadata": {
        "id": "YmliM3I80w4p"
      },
      "source": [
        "### Overall, \n",
        "our network performs ok with a training, validation, and test accuracy all around 50-60%. What could you change about the network or inputs? How do you think that would affect the model's predictions?\n",
        "\n",
        "#Need more wines at lower and higher quality values to establish a better correlation. Also, having a much larger data set would likely improve the results because the model has problems with generalization after going into the final step."
      ]
    },
    {
      "cell_type": "code",
      "metadata": {
        "id": "mwkOIERh0w4q"
      },
      "source": [
        ""
      ],
      "execution_count": null,
      "outputs": []
    }
  ]
}